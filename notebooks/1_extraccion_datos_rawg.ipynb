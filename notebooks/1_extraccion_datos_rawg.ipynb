{
 "cells": [
  {
   "cell_type": "markdown",
   "id": "f7b502a4",
   "metadata": {},
   "source": [
    "# 1. Extracción de datos desde la API de RAWG\n",
    "\n",
    "Este notebook contiene la función encargada de extraer los datos desde la API pública de RAWG, la cual será utilizada por todos los miembros del grupo para responder a sus respectivas subpreguntas.\n",
    "\n",
    "La función `obtener_juegos_por_anio()` permite recopilar información de videojuegos publicados entre un rango de años, devolviendo un DataFrame con los campos proporcionados por la API.\n",
    "\n",
    "Además, la función `guardar_juegos_en_csv()` permite guardar los resultados en un archivo `.csv` dentro del directorio `../data/` para su posterior procesamiento.\n"
   ]
  },
  {
   "cell_type": "code",
   "execution_count": 1,
   "id": "8fcabc58",
   "metadata": {},
   "outputs": [],
   "source": [
    "import requests\n",
    "import pandas as pd\n",
    "from tqdm.notebook import tqdm\n",
    "import time\n",
    "import os"
   ]
  },
  {
   "cell_type": "code",
   "execution_count": 2,
   "id": "21b4d663",
   "metadata": {},
   "outputs": [],
   "source": [
    "API_KEY = \"9e9ab06256174d82a01dc73f02418ca2\"\n",
    "\n",
    "def obtener_juegos_por_anio(inicio=2015, fin=2024, paginas=5, pausa=1):\n",
    "    juegos_lista = []\n",
    "\n",
    "    for year in tqdm(range(inicio, fin + 1), desc=\"Años\"):\n",
    "        for page in tqdm(range(1, paginas + 1), desc=f\"Año {year}\", leave=False):\n",
    "            url = (\n",
    "                f\"https://api.rawg.io/api/games\"\n",
    "                f\"?key={API_KEY}&dates={year}-01-01,{year}-12-31\"\n",
    "                f\"&page_size=40&page={page}\"\n",
    "            )\n",
    "            try:\n",
    "                r = requests.get(url)\n",
    "                r.raise_for_status()  # Lanza excepción si hay error\n",
    "                juegos = r.json().get('results', [])\n",
    "                if not juegos:\n",
    "                    print(f\"Sin resultados en {year}, página {page}\")\n",
    "                    break\n",
    "                juegos_lista.extend(juegos)\n",
    "            except requests.RequestException as e:\n",
    "                print(f\"Error en {year}, página {page}: {e}\")\n",
    "                continue\n",
    "\n",
    "            time.sleep(pausa)  # Pausa para no saturar la API\n",
    "\n",
    "    df = pd.json_normalize(juegos_lista)\n",
    "    print(f\"\\nTotal de juegos obtenidos: {len(df)}\")\n",
    "    return df\n"
   ]
  },
  {
   "cell_type": "code",
   "execution_count": 3,
   "id": "608510fa",
   "metadata": {},
   "outputs": [],
   "source": [
    "\n",
    "\n",
    "def juegos_csv(inicio=2015, fin=2024, paginas=5, pausa=1, path=\"../data/raw/juegos_rawg.csv\"):\n",
    "   \n",
    "    print(\"Obteniendo datos desde la API de RAWG...\")\n",
    "   \n",
    "    df = obtener_juegos_por_anio(inicio=inicio, fin=fin, paginas=paginas, pausa=pausa)\n",
    "\n",
    "    # Guardar en CSV\n",
    "    df.to_csv(path, index=False)\n",
    "    print(f\"Archivo guardado en: {path}\")\n"
   ]
  },
  {
   "cell_type": "code",
   "execution_count": 4,
   "id": "8c59cb4d",
   "metadata": {},
   "outputs": [
    {
     "name": "stdout",
     "output_type": "stream",
     "text": [
      "Obteniendo datos desde la API de RAWG...\n"
     ]
    },
    {
     "data": {
      "application/vnd.jupyter.widget-view+json": {
       "model_id": "11f0ff1cd3ea484b851cf45efaadae58",
       "version_major": 2,
       "version_minor": 0
      },
      "text/plain": [
       "Años:   0%|          | 0/10 [00:00<?, ?it/s]"
      ]
     },
     "metadata": {},
     "output_type": "display_data"
    },
    {
     "data": {
      "application/vnd.jupyter.widget-view+json": {
       "model_id": "6ef31c38c0664a2689c3a1cad92d96b6",
       "version_major": 2,
       "version_minor": 0
      },
      "text/plain": [
       "Año 2015:   0%|          | 0/5 [00:00<?, ?it/s]"
      ]
     },
     "metadata": {},
     "output_type": "display_data"
    },
    {
     "data": {
      "application/vnd.jupyter.widget-view+json": {
       "model_id": "827e6e926be94ee7bd5f9a9e5c78b459",
       "version_major": 2,
       "version_minor": 0
      },
      "text/plain": [
       "Año 2016:   0%|          | 0/5 [00:00<?, ?it/s]"
      ]
     },
     "metadata": {},
     "output_type": "display_data"
    },
    {
     "data": {
      "application/vnd.jupyter.widget-view+json": {
       "model_id": "0e05427405c84658ae938ce982115b8d",
       "version_major": 2,
       "version_minor": 0
      },
      "text/plain": [
       "Año 2017:   0%|          | 0/5 [00:00<?, ?it/s]"
      ]
     },
     "metadata": {},
     "output_type": "display_data"
    },
    {
     "data": {
      "application/vnd.jupyter.widget-view+json": {
       "model_id": "74a51439f449473994700449d5835580",
       "version_major": 2,
       "version_minor": 0
      },
      "text/plain": [
       "Año 2018:   0%|          | 0/5 [00:00<?, ?it/s]"
      ]
     },
     "metadata": {},
     "output_type": "display_data"
    },
    {
     "data": {
      "application/vnd.jupyter.widget-view+json": {
       "model_id": "1ffa94a7bf31419492921055093d4c04",
       "version_major": 2,
       "version_minor": 0
      },
      "text/plain": [
       "Año 2019:   0%|          | 0/5 [00:00<?, ?it/s]"
      ]
     },
     "metadata": {},
     "output_type": "display_data"
    },
    {
     "data": {
      "application/vnd.jupyter.widget-view+json": {
       "model_id": "6f0cbec95c634b5f8ab098d8b779f25a",
       "version_major": 2,
       "version_minor": 0
      },
      "text/plain": [
       "Año 2020:   0%|          | 0/5 [00:00<?, ?it/s]"
      ]
     },
     "metadata": {},
     "output_type": "display_data"
    },
    {
     "data": {
      "application/vnd.jupyter.widget-view+json": {
       "model_id": "d6e8f00c53e44cef86b50d095064d6f2",
       "version_major": 2,
       "version_minor": 0
      },
      "text/plain": [
       "Año 2021:   0%|          | 0/5 [00:00<?, ?it/s]"
      ]
     },
     "metadata": {},
     "output_type": "display_data"
    },
    {
     "data": {
      "application/vnd.jupyter.widget-view+json": {
       "model_id": "8d2f6474657c473f824685ffc3404717",
       "version_major": 2,
       "version_minor": 0
      },
      "text/plain": [
       "Año 2022:   0%|          | 0/5 [00:00<?, ?it/s]"
      ]
     },
     "metadata": {},
     "output_type": "display_data"
    },
    {
     "data": {
      "application/vnd.jupyter.widget-view+json": {
       "model_id": "9bffd7a56a164435aa2c7104c0364e6b",
       "version_major": 2,
       "version_minor": 0
      },
      "text/plain": [
       "Año 2023:   0%|          | 0/5 [00:00<?, ?it/s]"
      ]
     },
     "metadata": {},
     "output_type": "display_data"
    },
    {
     "data": {
      "application/vnd.jupyter.widget-view+json": {
       "model_id": "3045cb8a4f0b4fa28a8ca571b2934ea8",
       "version_major": 2,
       "version_minor": 0
      },
      "text/plain": [
       "Año 2024:   0%|          | 0/5 [00:00<?, ?it/s]"
      ]
     },
     "metadata": {},
     "output_type": "display_data"
    },
    {
     "name": "stdout",
     "output_type": "stream",
     "text": [
      "\n",
      "Total de juegos obtenidos: 2000\n",
      "Archivo guardado en: ../data/juegos_rawg.csv\n"
     ]
    }
   ],
   "source": [
    "juegos_csv(inicio=2015, fin=2024, paginas=5, pausa=1, path=\"../data/juegos_rawg.csv\")\n"
   ]
  },
  {
   "cell_type": "code",
   "execution_count": null,
   "id": "2bd06131",
   "metadata": {},
   "outputs": [],
   "source": []
  }
 ],
 "metadata": {
  "kernelspec": {
   "display_name": "base",
   "language": "python",
   "name": "python3"
  },
  "language_info": {
   "codemirror_mode": {
    "name": "ipython",
    "version": 3
   },
   "file_extension": ".py",
   "mimetype": "text/x-python",
   "name": "python",
   "nbconvert_exporter": "python",
   "pygments_lexer": "ipython3",
   "version": "3.12.7"
  }
 },
 "nbformat": 4,
 "nbformat_minor": 5
}
