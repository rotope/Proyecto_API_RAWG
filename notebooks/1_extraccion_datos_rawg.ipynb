{
 "cells": [
  {
   "cell_type": "markdown",
   "id": "cd8f35e8",
   "metadata": {},
   "source": [
    "# Extracción de Datos RAWG\n",
    "\n",
    "**Objetivo:** Conectar con la API de RAWG y extraer datos de videojuegos para analizarlos posteriormente."
   ]
  },
  {
   "cell_type": "code",
   "execution_count": null,
   "id": "527beeb2",
   "metadata": {},
   "outputs": [],
   "source": [
    "import requests\n",
    "import pandas as pd\n",
    "from tqdm import tqdm\n",
    "import time\n",
    "\n",
    "API_KEY = \"TU_API_KEY\"\n",
    "\n",
    "def obtener_juegos_por_anio(inicio=2015, fin=2024):\n",
    "    juegos_lista = []\n",
    "    for year in range(inicio, fin + 1):\n",
    "        for page in range(1, 6):\n",
    "            url = f\"https://api.rawg.io/api/games?key={API_KEY}&dates={year}-01-01,{year}-12-31&page_size=40&page={page}\"\n",
    "            r = requests.get(url)\n",
    "            if r.status_code == 200:\n",
    "                juegos = r.json()['results']\n",
    "                juegos_lista.extend(juegos)\n",
    "                time.sleep(1)\n",
    "            else:\n",
    "                print(f\"Error en el año {year}, página {page}\")\n",
    "    return pd.json_normalize(juegos_lista)\n",
    "\n",
    "# Ejecutar y guardar\n",
    "# df_rawg = obtener_juegos_por_anio()\n",
    "# df_rawg.to_csv(\"../data/raw/juegos_rawg.csv\", index=False)"
   ]
  }
 ],
 "metadata": {},
 "nbformat": 4,
 "nbformat_minor": 5
}
