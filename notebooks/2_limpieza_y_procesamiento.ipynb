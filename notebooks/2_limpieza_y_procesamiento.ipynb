{
 "cells": [
  {
   "cell_type": "markdown",
   "id": "ff308927",
   "metadata": {},
   "source": [
    "# Limpieza y Procesamiento\n",
    "\n",
    "**Objetivo:** Limpiar el dataset extraído y preparar columnas clave para el análisis."
   ]
  },
  {
   "cell_type": "code",
   "execution_count": null,
   "id": "b4555118",
   "metadata": {},
   "outputs": [],
   "source": [
    "import pandas as pd\n",
    "\n",
    "# df = pd.read_csv(\"../data/raw/juegos_rawg.csv\")\n",
    "\n",
    "# df = df.drop_duplicates()\n",
    "# df = df.dropna(subset=[\"released\", \"rating\", \"genres\"])\n",
    "# df[\"released\"] = pd.to_datetime(df[\"released\"])\n",
    "# df[\"año\"] = df[\"released\"].dt.year\n",
    "\n",
    "# columnas_utiles = [\"name\", \"released\", \"rating\", \"ratings_count\", \"genres\", \"platforms\", \"developers\", \"metacritic\"]\n",
    "# df = df[columnas_utiles]\n",
    "\n",
    "# df.to_csv(\"../data/processed/juegos_limpios.csv\", index=False)"
   ]
  }
 ],
 "metadata": {},
 "nbformat": 4,
 "nbformat_minor": 5
}
