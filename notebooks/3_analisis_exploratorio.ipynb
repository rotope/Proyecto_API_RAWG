{
 "cells": [
  {
   "cell_type": "markdown",
   "id": "4522808b",
   "metadata": {},
   "source": [
    "# Análisis Exploratorio\n",
    "\n",
    "**Objetivo:** Explorar el dataset limpio y extraer conclusiones estadísticas básicas."
   ]
  },
  {
   "cell_type": "code",
   "execution_count": null,
   "id": "584a9a8f",
   "metadata": {},
   "outputs": [],
   "source": [
    "import pandas as pd\n",
    "\n",
    "# df = pd.read_csv(\"../data/processed/juegos_limpios.csv\")\n",
    "\n",
    "# df_generos = df.explode(\"genres\")\n",
    "# resumen_generos = df_generos.groupby([\"año\", \"genres\"]).size().reset_index(name=\"conteo\")\n",
    "\n",
    "# df_devs = df.explode(\"developers\")\n",
    "# top_devs = df_devs[\"developers\"].value_counts().head(10)\n",
    "\n",
    "# df_platforms = df.explode(\"platforms\")\n",
    "# resumen_plat = df_platforms.groupby(\"platforms\")[\"rating\"].mean().sort_values(ascending=False)"
   ]
  }
 ],
 "metadata": {},
 "nbformat": 4,
 "nbformat_minor": 5
}
