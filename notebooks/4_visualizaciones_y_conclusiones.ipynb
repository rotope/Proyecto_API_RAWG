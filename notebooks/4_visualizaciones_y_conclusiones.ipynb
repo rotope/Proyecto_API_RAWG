{
 "cells": [
  {
   "cell_type": "markdown",
   "id": "93ab5131",
   "metadata": {},
   "source": [
    "# Visualizaciones y Conclusiones\n",
    "\n",
    "**Objetivo:** Visualizar los resultados clave y construir una narrativa visual del análisis."
   ]
  },
  {
   "cell_type": "code",
   "execution_count": null,
   "id": "b5c5cbf3",
   "metadata": {},
   "outputs": [],
   "source": [
    "import pandas as pd\n",
    "import matplotlib.pyplot as plt\n",
    "import seaborn as sns\n",
    "\n",
    "# df = pd.read_csv(\"../data/processed/juegos_limpios.csv\")\n",
    "\n",
    "# # Géneros por año\n",
    "# plt.figure(figsize=(12, 6))\n",
    "# sns.lineplot(data=resumen_generos, x=\"año\", y=\"conteo\", hue=\"genres\")\n",
    "# plt.title(\"Evolución de géneros más populares\")\n",
    "# plt.show()\n",
    "\n",
    "# # Plataformas mejor valoradas\n",
    "# resumen_plat.head(10).plot(kind=\"barh\")\n",
    "# plt.title(\"Top 10 plataformas según valoración media\")\n",
    "# plt.xlabel(\"Puntuación media\")\n",
    "# plt.show()\n",
    "\n",
    "# # Conclusiones\n",
    "# # - Géneros consolidados en últimos años\n",
    "# # - Plataformas con mayor calidad\n",
    "# # - Correlaciones entre popularidad y puntuación"
   ]
  }
 ],
 "metadata": {},
 "nbformat": 4,
 "nbformat_minor": 5
}
