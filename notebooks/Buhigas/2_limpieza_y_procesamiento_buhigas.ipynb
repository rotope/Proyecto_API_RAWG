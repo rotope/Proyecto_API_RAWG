{
  "cells": [
    {
      "cell_type": "markdown",
      "id": "9b3a2941",
      "metadata": {
        "id": "9b3a2941"
      },
      "source": [
        "## Análisis preliminar (revisar)\n",
        "\n",
        "Este notebook forma parte de un proyecto de análisis de datos donde se trabaja con un archivo `JSON` extraído desde la API de RAWG.\n",
        "\n",
        "El objetivo de este script es preparar los datos para su posterior análisis. Se utiliza la biblioteca `pandas` para limpiar y estructurar la información, filtrando solo los videojuegos que cuentan con:\n",
        "\n",
        "- Fecha de lanzamiento válida (`released`)\n",
        "- Puntuación (`rating`)\n",
        "- Al menos un género asignado (`genres`)\n",
        "- Fechas comprendidas entre 1995 y 2024\n",
        "\n",
        "El resultado es un DataFrame limpio y útil, que incluye columnas como el nombre del juego, la fecha de lanzamiento, la puntuación media y los géneros asociados preparado para un análisis exploratorio o visualizaciones posteriores."
      ]
    },
    {
      "cell_type": "code",
      "execution_count": null,
      "id": "031fa34b",
      "metadata": {
        "id": "031fa34b"
      },
      "outputs": [],
      "source": [
        "import pandas as pd"
      ]
    },
    {
      "cell_type": "code",
      "execution_count": 1,
      "id": "ae9df7b4",
      "metadata": {
        "colab": {
          "base_uri": "https://localhost:8080/",
          "height": 176
        },
        "id": "ae9df7b4",
        "outputId": "8aa0d5e9-b71f-4893-b016-d5098b5cfa4f"
      },
      "outputs": [
        {
          "output_type": "error",
          "ename": "NameError",
          "evalue": "name 'pd' is not defined",
          "traceback": [
            "\u001b[0;31m---------------------------------------------------------------------------\u001b[0m",
            "\u001b[0;31mNameError\u001b[0m                                 Traceback (most recent call last)",
            "\u001b[0;32m<ipython-input-1-bfd08a6febc5>\u001b[0m in \u001b[0;36m<cell line: 0>\u001b[0;34m()\u001b[0m\n\u001b[1;32m      1\u001b[0m \u001b[0;31m# 1. Cargar el JSON descargado previamente\u001b[0m\u001b[0;34m\u001b[0m\u001b[0;34m\u001b[0m\u001b[0m\n\u001b[0;32m----> 2\u001b[0;31m \u001b[0mdf\u001b[0m \u001b[0;34m=\u001b[0m \u001b[0mpd\u001b[0m\u001b[0;34m.\u001b[0m\u001b[0mread_json\u001b[0m\u001b[0;34m(\u001b[0m\u001b[0;34m'/Users/alexg.herrera/Desktop/HackABoss/Proyecto_RAWG/proyecto-grupal-main/data/raw/juegos_rawg.json'\u001b[0m\u001b[0;34m)\u001b[0m\u001b[0;34m\u001b[0m\u001b[0;34m\u001b[0m\u001b[0m\n\u001b[0m\u001b[1;32m      3\u001b[0m \u001b[0mdf\u001b[0m\u001b[0;34m\u001b[0m\u001b[0;34m\u001b[0m\u001b[0m\n",
            "\u001b[0;31mNameError\u001b[0m: name 'pd' is not defined"
          ]
        }
      ],
      "source": [
        "df = pd.read_json('../../data/raw/juegos_rawg.json')\n"
      ]
    },
    {
      "cell_type": "code",
      "execution_count": null,
      "id": "92eb5d5a",
      "metadata": {
        "id": "92eb5d5a",
        "outputId": "e45829d8-df25-474d-a713-d0e777dbfc0a"
      },
      "outputs": [
        {
          "name": "stdout",
          "output_type": "stream",
          "text": [
            "<class 'pandas.core.frame.DataFrame'>\n",
            "Index: 2000 entries, 0 to 1999\n",
            "Data columns (total 41 columns):\n",
            " #   Column                   Non-Null Count  Dtype  \n",
            "---  ------                   --------------  -----  \n",
            " 0   slug                     2000 non-null   object \n",
            " 1   name                     2000 non-null   object \n",
            " 2   playtime                 2000 non-null   int64  \n",
            " 3   platforms                2000 non-null   object \n",
            " 4   stores                   1989 non-null   object \n",
            " 5   released                 2000 non-null   object \n",
            " 6   tba                      2000 non-null   bool   \n",
            " 7   background_image         1999 non-null   object \n",
            " 8   rating                   2000 non-null   float64\n",
            " 9   rating_top               2000 non-null   int64  \n",
            " 10  ratings                  2000 non-null   object \n",
            " 11  ratings_count            2000 non-null   int64  \n",
            " 12  reviews_text_count       2000 non-null   int64  \n",
            " 13  added                    2000 non-null   int64  \n",
            " 14  metacritic               1056 non-null   float64\n",
            " 15  suggestions_count        2000 non-null   int64  \n",
            " 16  updated                  2000 non-null   object \n",
            " 17  id                       2000 non-null   int64  \n",
            " 18  score                    0 non-null      float64\n",
            " 19  clip                     0 non-null      float64\n",
            " 20  tags                     2000 non-null   object \n",
            " 21  user_game                0 non-null      float64\n",
            " 22  reviews_count            2000 non-null   int64  \n",
            " 23  saturated_color          2000 non-null   object \n",
            " 24  dominant_color           2000 non-null   object \n",
            " 25  short_screenshots        2000 non-null   object \n",
            " 26  parent_platforms         2000 non-null   object \n",
            " 27  genres                   2000 non-null   object \n",
            " 28  added_by_status.yet      1994 non-null   float64\n",
            " 29  added_by_status.owned    2000 non-null   int64  \n",
            " 30  added_by_status.beaten   1934 non-null   float64\n",
            " 31  added_by_status.toplay   1958 non-null   float64\n",
            " 32  added_by_status.dropped  1974 non-null   float64\n",
            " 33  added_by_status.playing  1853 non-null   float64\n",
            " 34  esrb_rating.id           1002 non-null   float64\n",
            " 35  esrb_rating.name         1002 non-null   object \n",
            " 36  esrb_rating.slug         1002 non-null   object \n",
            " 37  esrb_rating.name_en      1002 non-null   object \n",
            " 38  esrb_rating.name_ru      1002 non-null   object \n",
            " 39  esrb_rating              0 non-null      float64\n",
            " 40  community_rating         58 non-null     float64\n",
            "dtypes: bool(1), float64(13), int64(9), object(18)\n",
            "memory usage: 642.6+ KB\n"
          ]
        }
      ],
      "source": [
        "df.info()"
      ]
    },
    {
      "cell_type": "markdown",
      "id": "8bf7b799",
      "metadata": {
        "id": "8bf7b799"
      },
      "source": [
        "# Tratamiento de NaN\n",
        "\n",
        "Aunque en el analisis exploratorio, las columnas que vamos a utilizar para trabajar con los datosn no vemos presentes ningun `NaN`hemos creado una celda de filtrado para si en posteriores cargas de datos si existiesen, tener preparado el notebook para tal caso."
      ]
    },
    {
      "cell_type": "code",
      "execution_count": null,
      "id": "5495303c",
      "metadata": {
        "id": "5495303c"
      },
      "outputs": [],
      "source": [
        "# 2. Filtrar registros válidos (con fecha, rating y géneros)\n",
        "df = df[df['released'].notna() & df['rating'].notna() & df['genres'].notna()]\n",
        "df"
      ]
    },
    {
      "cell_type": "markdown",
      "source": [
        "##Convertir y filtrar fechas##\n",
        "\n",
        "- Convierte la columna released a tipo datetime, manejando errores con errors='coerce' (lo convierte en NaT si falla).\n",
        "\n",
        "- Filtra el DataFrame para que solo queden los juegos con fecha entre 2015 y 2024.\n",
        "\n",
        "- Muestra el DataFrame (df)."
      ],
      "metadata": {
        "id": "KDnXXnDJ2etr"
      },
      "id": "KDnXXnDJ2etr"
    },
    {
      "cell_type": "code",
      "execution_count": null,
      "id": "52503ff8",
      "metadata": {
        "id": "52503ff8"
      },
      "outputs": [],
      "source": [
        " df['fecha_lanzamiento'] = pd.to_datetime(df['released'], errors='coerce')\n",
        " df = df[(df['fecha_lanzamiento'].dt.year >= 2015) & (df['fecha_lanzamiento'].dt.year <= 2024)]\n",
        " df"
      ]
    },
    {
      "cell_type": "markdown",
      "source": [
        "##Selección y transformación##\n",
        "\n",
        "- Crea un nuevo DataFrame llamado df_final con columnas renombradas y transformadas:\n",
        "\n",
        "- nombre: nombre del videojuego\n",
        "\n",
        "- fecha_lanzamiento: fecha limpia\n",
        "\n",
        "- puntuacion_media: rating\n",
        "\n",
        "- generos: convierte la lista de diccionarios (genres) a un texto plano tipo 'action, rpg'."
      ],
      "metadata": {
        "id": "1VcqWXAc26w6"
      },
      "id": "1VcqWXAc26w6"
    },
    {
      "cell_type": "code",
      "execution_count": null,
      "id": "6c1053b3",
      "metadata": {
        "id": "6c1053b3"
      },
      "outputs": [],
      "source": [
        " df_final = pd.DataFrame({\n",
        "     'nombre': df['name'],\n",
        "     'fecha_lanzamiento': df['fecha_lanzamiento'],\n",
        "     'puntuacion_media': df['rating'],\n",
        "     'generos': df['genres'].apply(lambda lista: ', '.join([g['slug'] for g in lista]))\n",
        " })"
      ]
    },
    {
      "cell_type": "markdown",
      "source": [
        "##Visualización del resultado##\n",
        "\n",
        "- Muestra las primeras 5 filas del DataFrame df_final, que debe contener los datos ya transformados."
      ],
      "metadata": {
        "id": "Q6V-0DpO30-l"
      },
      "id": "Q6V-0DpO30-l"
    },
    {
      "cell_type": "code",
      "execution_count": null,
      "id": "27d5c46d",
      "metadata": {
        "id": "27d5c46d"
      },
      "outputs": [],
      "source": [
        "print(df_final.head())"
      ]
    },
    {
      "cell_type": "markdown",
      "source": [
        "##Exporta el DataFrame df a un archivo JSON en formato:##\n",
        "\n",
        "- \"records\" → lista de diccionarios (uno por fila).\n",
        "\n",
        "- lines=True → cada registro va en una línea ("
      ],
      "metadata": {
        "id": "KUpf7Htp4bcq"
      },
      "id": "KUpf7Htp4bcq"
    },
    {
      "cell_type": "code",
      "execution_count": null,
      "id": "181c782b",
      "metadata": {
        "id": "181c782b"
      },
      "outputs": [],
      "source": [
        "df.to_json(\"../data/processed/juegos_rawg_generos1.json\", orient=\"records\", lines=True)"
      ]
    }
  ],
  "metadata": {
    "colab": {
      "provenance": []
    },
    "kernelspec": {
      "display_name": "base",
      "language": "python",
      "name": "python3"
    },
    "language_info": {
      "codemirror_mode": {
        "name": "ipython",
        "version": 3
      },
      "file_extension": ".py",
      "mimetype": "text/x-python",
      "name": "python",
      "nbconvert_exporter": "python",
      "pygments_lexer": "ipython3",
      "version": "3.12.7"
    }
  },
  "nbformat": 4,
  "nbformat_minor": 5
}