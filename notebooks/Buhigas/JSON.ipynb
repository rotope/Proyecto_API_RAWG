{
  "nbformat": 4,
  "nbformat_minor": 0,
  "metadata": {
    "colab": {
      "provenance": []
    },
    "kernelspec": {
      "name": "python3",
      "display_name": "Python 3"
    },
    "language_info": {
      "name": "python"
    }
  },
  "cells": [
    {
      "cell_type": "code",
      "source": [
        "import pandas as pd\n",
        "import os\n",
        "\n",
        "# Ruta al archivo JSON (ajústala si es necesario)\n",
        "ruta_json = '../../data/raw/juegos_rawg.json'\n",
        "\n",
        "# Verificar que el archivo existe\n",
        "if not os.path.exists(ruta_json):\n",
        "    raise FileNotFoundError(f\"No se encontró el archivo en la ruta: {ruta_json}\")\n",
        "\n",
        "# Cargar el JSON en un DataFrame\n",
        "df = pd.read_json(ruta_json)\n",
        "\n",
        "# Verificar si los datos están anidados en la clave 'results'\n",
        "if 'results' in df.columns and isinstance(df['results'].iloc[0], dict | list):\n",
        "    df = pd.json_normalize(df['results'])\n",
        "\n",
        "# Crear DataFrame con columnas filtradas y procesadas\n",
        "df_limpio = pd.DataFrame({\n",
        "    'nombre': df.get('name'),\n",
        "    'fecha_lanzamiento': df.get('released'),\n",
        "    'año': pd.to_datetime(df.get('released'), errors='coerce').dt.year,\n",
        "    'puntuacion_media': df.get('rating'),\n",
        "    'generos': df.get('genres').apply(\n",
        "        lambda g: ', '.join([gen['slug'] for gen in g]) if isinstance(g, list) else 'sin_datos'\n",
        "    )\n",
        "})\n",
        "\n",
        "# Mostrar las primeras filas\n",
        "print(df_limpio.head())\n",
        "\n",
        "# Guardar en un nuevo CSV (opcional)\n",
        "df_limpio.to_csv('videojuegos_procesados.csv', index=False, encoding='utf-8')"
      ],
      "metadata": {
        "id": "lmNYzccEzl1t"
      },
      "execution_count": null,
      "outputs": []
    }
  ]
}