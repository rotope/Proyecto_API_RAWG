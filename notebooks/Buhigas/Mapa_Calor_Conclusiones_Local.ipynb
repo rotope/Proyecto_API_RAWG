{
  "cells": [
    {
      "cell_type": "markdown",
      "id": "5e6b23c1",
      "metadata": {
        "id": "5e6b23c1"
      },
      "source": [
        "## Evolución de la puntuación media por género y año ##\n",
        "\n",
        "Este notebook analiza cómo ha evolucionado la puntuación media de los videojuegos según su género principal y año de lanzamiento, utilizando datos extraídos desde la API de RAWG en formato JSON.\n",
        "\n",
        "Se han seguido los siguientes pasos:\n",
        "\n",
        "- Carga del archivo JSON local.\n",
        "- Limpieza de registros incompletos.\n",
        "- Conversión de fechas y filtrado por años entre 1995 y 2024.\n",
        "- Selección del género principal de cada juego.\n",
        "- Cálculo de la puntuación media anual por género.\n",
        "- Representación visual mediante un heatmap interactivo."
      ]
    },
    {
      "cell_type": "code",
      "execution_count": null,
      "id": "b406f8ba",
      "metadata": {
        "id": "b406f8ba"
      },
      "outputs": [],
      "source": [
        "import pandas as pd\n",
        "import plotly.express as px\n",
        "\n",
        "# 1. Cargar el JSON local\n",
        "df = pd.read_json('../../data/raw/juegos_rawg.json')\n",
        "# 2. Filtrar juegos con released, rating y genres válidos\n",
        "df = df[\n",
        "    df['released'].notna() &\n",
        "    df['rating'].notna() &\n",
        "    df['genres'].apply(lambda g: isinstance(g, list) and len(g) > 0)\n",
        "]\n",
        "# Filtrar puntuaciones bajas o juegos sin valoraciones reales\n",
        "df = df[df['rating'] > 0]\n",
        "if 'ratings_count' in df.columns:\n",
        "    df = df[df['ratings_count'] >= 10]\n",
        "# 3. Convertir fecha y filtrar por rango de años\n",
        "df['fecha_lanzamiento'] = pd.to_datetime(df['released'], errors='coerce')\n",
        "df = df[\n",
        "    df['fecha_lanzamiento'].notna() &\n",
        "    (df['fecha_lanzamiento'].dt.year >= 1995) &\n",
        "    (df['fecha_lanzamiento'].dt.year <= 2024)\n",
        "]\n",
        "\n",
        "# 4. Extraer el año y el género principal\n",
        "df['año'] = df['fecha_lanzamiento'].dt.year\n",
        "df['genero_principal'] = df['genres'].apply(\n",
        "    lambda lista: lista[0]['slug'] if isinstance(lista, list) and len(lista) > 0 and 'slug' in lista[0] else 'sin_datos'\n",
        ")\n",
        "\n",
        "# 5. Agrupar por género y año, calcular puntuación media\n",
        "pivot_df = df.groupby(['genero_principal', 'año'])['rating'].mean().reset_index()\n",
        "\n",
        "# 6. Crear tabla para el heatmap\n",
        "heatmap_data = pivot_df.pivot(index='genero_principal', columns='año', values='rating')\n",
        "\n",
        "# 7. Crear heatmap interactivo\n",
        "fig = px.imshow(\n",
        "    heatmap_data,\n",
        "    text_auto='.2f',\n",
        "    color_continuous_scale='Viridis',\n",
        "    labels={'color': 'Puntuación media'},\n",
        "    title=' Puntuación media por género y año'\n",
        ")\n",
        "\n",
        "fig.show()"
      ]
    },
    {
      "cell_type": "markdown",
      "id": "73d5d0ba",
      "metadata": {
        "id": "73d5d0ba"
      },
      "source": [
        "## Conclusiones ##\n",
        "\n",
        "El análisis de la **puntuación media por género y año** revela patrones significativos sobre la evolución de la industria del videojuego:\n",
        "\n",
        "- Algunos géneros como **`rpg`**, **`action`** o **`strategy`** tienden a mantener puntuaciones consistentemente altas, lo que sugiere una **alta calidad percibida**.\n",
        "- Otros géneros muestran una evolución **irregular**, posiblemente debido a lanzamientos muy influyentes en años concretos.\n",
        "- También se identifican géneros **emergentes** en los últimos años con una tendencia al alza en su valoración.\n",
        "- Por otro lado, ciertos géneros presentan una **caída en la puntuación media**, lo que podría reflejar saturación o menor innovación.\n",
        "\n",
        "Este heatmap es útil para detectar **tendencias, ciclos o cambios en la percepción de calidad** por parte de la crítica y la comunidad gamer a lo largo de casi tres décadas."
      ]
    }
  ],
  "metadata": {
    "colab": {
      "provenance": []
    }
  },
  "nbformat": 4,
  "nbformat_minor": 5
}