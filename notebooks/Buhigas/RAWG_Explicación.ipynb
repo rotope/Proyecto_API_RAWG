{
  "nbformat": 4,
  "nbformat_minor": 0,
  "metadata": {
    "colab": {
      "provenance": []
    },
    "kernelspec": {
      "name": "python3",
      "display_name": "Python 3"
    },
    "language_info": {
      "name": "python"
    }
  },
  "cells": [
    {
      "cell_type": "markdown",
      "source": [
        "**🎯 Objetivo del Script**\n",
        "\n",
        "Recopilar información de videojuegos lanzados entre 1995 y 2024 desde la API de RAWG, incluyendo solo aquellos con puntuación válida y géneros, y guardar los resultados en un archivo .csv llamado videojuegos_1995_2024_completo.csv."
      ],
      "metadata": {
        "id": "wCiCnMC35qSf"
      }
    },
    {
      "cell_type": "markdown",
      "source": [
        "**1. Importación de librerías**\n",
        "\n",
        "\n"
      ],
      "metadata": {
        "id": "2PlBKe3l5v48"
      }
    },
    {
      "cell_type": "code",
      "source": [
        "import requests\n",
        "import time\n",
        "import csv"
      ],
      "metadata": {
        "id": "238Jtp2q6FVr"
      },
      "execution_count": 1,
      "outputs": []
    },
    {
      "cell_type": "markdown",
      "source": [
        "\"Estas son las librerías básicas utilizadas:\"\n",
        "\n",
        "\n",
        "**requests:** *para enviar peticiones HTTP a la API de RAWG.*\n",
        "\n",
        "**time:** *permite pausar la ejecución entre peticiones para evitar ser bloqueado por exceso de solicitudes.*\n",
        "\n",
        "**csv:** *para guardar los datos recolectados en un archivo CSV.*\n",
        "\n"
      ],
      "metadata": {
        "id": "fP0Q6rPd6N1P"
      }
    },
    {
      "cell_type": "markdown",
      "source": [
        "**2. Definición de constantes**"
      ],
      "metadata": {
        "id": "OOV1cINU6v1h"
      }
    },
    {
      "cell_type": "code",
      "source": [
        "API_KEY = '9e9ab06256174d82a01dc73f02418ca2'\n",
        "BASE_URL = 'https://api.rawg.io/api/games'"
      ],
      "metadata": {
        "id": "B8rU-xFC7Af4"
      },
      "execution_count": null,
      "outputs": []
    },
    {
      "cell_type": "markdown",
      "source": [
        "**API_KEY:** tu clave personal de la API RAWG (funciona correctamente si es válida).\n",
        "\n",
        "**BASE_URL:** la dirección base para acceder al listado de videojuegos en la API."
      ],
      "metadata": {
        "id": "zRQElGbq7G3b"
      }
    },
    {
      "cell_type": "markdown",
      "source": [
        "3. **Función principal:** *obtener_juegos_desde_1995()*\n"
      ],
      "metadata": {
        "id": "3NXhrGi27a0w"
      }
    },
    {
      "cell_type": "code",
      "source": [
        "def obtener_juegos_desde_1995(paginas_por_año=3):"
      ],
      "metadata": {
        "id": "S5pkzsnC73r2"
      },
      "execution_count": null,
      "outputs": []
    },
    {
      "cell_type": "markdown",
      "source": [
        "Esta función es responsable de:\n",
        "\n",
        "Recorrer cada año entre 1995 y 2024.\n",
        "\n",
        "Descargar hasta paginas_por_año (por defecto 3) páginas por año.\n",
        "\n",
        "Almacenar solo juegos con puntuación válida y géneros.\n",
        "\n",
        "Asegurar que todos los años estén representados, aunque no tengan juegos válidos."
      ],
      "metadata": {
        "id": "nb-DADcu79EI"
      }
    },
    {
      "cell_type": "markdown",
      "source": [
        "**4. Inicializar la lista de resultados**"
      ],
      "metadata": {
        "id": "WGQ6Xw0M8J1g"
      }
    },
    {
      "cell_type": "code",
      "source": [
        "juegos_por_año = []"
      ],
      "metadata": {
        "id": "ZzO42Otu8qxl"
      },
      "execution_count": null,
      "outputs": []
    },
    {
      "cell_type": "markdown",
      "source": [
        "Esta lista contendrá todos los datos recolectados, año a año.\n",
        "\n"
      ],
      "metadata": {
        "id": "h8nNCKsj8sP2"
      }
    },
    {
      "cell_type": "markdown",
      "source": [
        "**5. Recorrido año por año**"
      ],
      "metadata": {
        "id": "1j8aqKWD8xdU"
      }
    },
    {
      "cell_type": "code",
      "source": [
        "for año in range(1995, 2025):"
      ],
      "metadata": {
        "id": "t9Dv2o4H84ZH"
      },
      "execution_count": null,
      "outputs": []
    },
    {
      "cell_type": "markdown",
      "source": [
        "Recorre todos los años desde 1995 hasta 2024.\n",
        "\n",
        "*range(1995, 2025)* incluye 2024 porque el límite superior no se incluye."
      ],
      "metadata": {
        "id": "DlyfqBNX9ATA"
      }
    },
    {
      "cell_type": "markdown",
      "source": [
        "**6. Recorrido de páginas por cada año**\n",
        "\n"
      ],
      "metadata": {
        "id": "plbqD2Cd-GQE"
      }
    },
    {
      "cell_type": "code",
      "source": [
        "for pagina in range(1, paginas_por_año + 1):"
      ],
      "metadata": {
        "id": "FClxPHGx-MJm"
      },
      "execution_count": null,
      "outputs": []
    },
    {
      "cell_type": "markdown",
      "source": [
        "RAWG devuelve máximo 40 juegos por página.\n",
        "\n",
        "Este bucle recorre varias páginas por año (por defecto 3 = hasta 120 juegos/año)."
      ],
      "metadata": {
        "id": "_V_mbGYw-RUG"
      }
    },
    {
      "cell_type": "markdown",
      "source": [
        "**7. Parámetros de consulta para la API**"
      ],
      "metadata": {
        "id": "xxymQiiM-nxx"
      }
    },
    {
      "cell_type": "code",
      "source": [
        "params = {\n",
        "    'key': API_KEY,\n",
        "    'dates': f'{año}-01-01,{año}-12-31',\n",
        "    'page': pagina,\n",
        "    'page_size': 40,\n",
        "    'ordering': '-rating'\n",
        "}"
      ],
      "metadata": {
        "id": "2brEnJgH-ur8"
      },
      "execution_count": null,
      "outputs": []
    },
    {
      "cell_type": "markdown",
      "source": [
        "Estos parámetros:\n",
        "\n",
        "Filtran los resultados por fecha de lanzamiento.\n",
        "\n",
        "Limitan a 40 juegos por página.\n",
        "\n",
        "Ordenan los juegos de mayor a menor puntuación (-rating)."
      ],
      "metadata": {
        "id": "DxTUM9io-1TT"
      }
    },
    {
      "cell_type": "markdown",
      "source": [
        "**8. Petición a la API**\n"
      ],
      "metadata": {
        "id": "5K6UNYPU-8gm"
      }
    },
    {
      "cell_type": "code",
      "source": [
        "response = requests.get(BASE_URL, params=params)"
      ],
      "metadata": {
        "id": "Pq96Klx9_CvN"
      },
      "execution_count": null,
      "outputs": []
    },
    {
      "cell_type": "markdown",
      "source": [
        "Envía la solicitud a la API para obtener los juegos de esa página del año correspondiente."
      ],
      "metadata": {
        "id": "_TD2mYWu_J86"
      }
    },
    {
      "cell_type": "markdown",
      "source": [
        "**9. Manejo de errores**"
      ],
      "metadata": {
        "id": "cfvIsSHF_M8K"
      }
    },
    {
      "cell_type": "code",
      "source": [
        "if response.status_code != 200:\n",
        "    print(f\"Error {response.status_code} en el año {año}, página {pagina}\")\n",
        "    break"
      ],
      "metadata": {
        "id": "6TPp5db2_UKN"
      },
      "execution_count": null,
      "outputs": []
    },
    {
      "cell_type": "markdown",
      "source": [
        "Si hay un error (como una clave inválida o límite excedido), lo reporta y detiene el bucle de esa página"
      ],
      "metadata": {
        "id": "T1YsHhaw_Z9b"
      }
    },
    {
      "cell_type": "markdown",
      "source": [
        "**10. Procesamiento de la respuesta JSON**\n"
      ],
      "metadata": {
        "id": "89oIytaS_hZk"
      }
    },
    {
      "cell_type": "code",
      "source": [
        "data = response.json()"
      ],
      "metadata": {
        "id": "O-BbjfCv_qY_"
      },
      "execution_count": null,
      "outputs": []
    },
    {
      "cell_type": "markdown",
      "source": [
        "Convierte la respuesta HTTP en un diccionario de Python (dict) para trabajar con los datos."
      ],
      "metadata": {
        "id": "QMKCh_wV_vXg"
      }
    },
    {
      "cell_type": "markdown",
      "source": [
        "**11. Filtrar juegos válidos**"
      ],
      "metadata": {
        "id": "S1Q89tYF_0FE"
      }
    },
    {
      "cell_type": "code",
      "source": [
        "for juego in data.get('results', []):\n",
        "    rating = juego.get('rating')\n",
        "    if rating and rating > 0 and juego.get('genres'):"
      ],
      "metadata": {
        "id": "qA26zJwR_6h7"
      },
      "execution_count": null,
      "outputs": []
    },
    {
      "cell_type": "markdown",
      "source": [
        "Itera por cada juego de la página.\n",
        "\n",
        "Se asegura de que:\n",
        "\n",
        "El juego tiene puntuación (rating > 0).\n",
        "\n",
        "El juego tiene al menos un género."
      ],
      "metadata": {
        "id": "O0BnE8c5_9oe"
      }
    },
    {
      "cell_type": "markdown",
      "source": [
        "**12. Guardar los juegos válidos**\n"
      ],
      "metadata": {
        "id": "MV9n05pRAO7f"
      }
    },
    {
      "cell_type": "code",
      "source": [
        "juegos_este_año.append({\n",
        "    'nombre': juego.get('name'),\n",
        "    'fecha_lanzamiento': juego.get('released'),\n",
        "    'año': año,\n",
        "    'puntuacion_media': rating,\n",
        "    'generos': ', '.join([g['slug'] for g in juego['genres']])"
      ],
      "metadata": {
        "id": "aCnZw-gTAWNt"
      },
      "execution_count": null,
      "outputs": []
    },
    {
      "cell_type": "markdown",
      "source": [
        "Extrae la información útil del juego:\n",
        "\n",
        "Nombre, fecha, año, puntuación, géneros.\n",
        "\n",
        "Convierte los géneros (lista de diccionarios) en una cadena separada por comas."
      ],
      "metadata": {
        "id": "WZ1S5bh-Abnf"
      }
    },
    {
      "cell_type": "markdown",
      "source": [
        "**13. Comprobar si hay más páginas**\n"
      ],
      "metadata": {
        "id": "UqW84HQUAiEg"
      }
    },
    {
      "cell_type": "code",
      "source": [
        "if not data.get('next'):\n",
        "    break"
      ],
      "metadata": {
        "id": "HZSn8SY0Av6s"
      },
      "execution_count": null,
      "outputs": []
    },
    {
      "cell_type": "markdown",
      "source": [
        "La API incluye un campo next que indica si hay otra página disponible.\n",
        "\n",
        "Si no lo hay, se sale del bucle de páginas."
      ],
      "metadata": {
        "id": "313NgpWSA0Bn"
      }
    },
    {
      "cell_type": "markdown",
      "source": [
        "**14. Pausa entre peticiones**\n",
        "\n"
      ],
      "metadata": {
        "id": "VHbe0NnsA3Mf"
      }
    },
    {
      "cell_type": "code",
      "source": [
        "time.sleep(1)"
      ],
      "metadata": {
        "id": "Zu8WnBKHBTBQ"
      },
      "execution_count": null,
      "outputs": []
    },
    {
      "cell_type": "markdown",
      "source": [
        "Espera 1 segundo antes de la siguiente petición para evitar sobrecargar la API (buena práctica contra “rate limit”)."
      ],
      "metadata": {
        "id": "caR-4nxDBXiB"
      }
    },
    {
      "cell_type": "markdown",
      "source": [
        "**15. Registrar año sin resultados (si aplica)**\n",
        "\n"
      ],
      "metadata": {
        "id": "sUmpB5LjBcOQ"
      }
    },
    {
      "cell_type": "code",
      "source": [
        "if not juegos_este_año:\n",
        "    juegos_por_año.append({\n",
        "        'nombre': 'Sin datos',\n",
        "        'fecha_lanzamiento': None,\n",
        "        'año': año,\n",
        "        'puntuacion_media': None,\n",
        "        'generos': 'sin_datos'\n",
        "    })"
      ],
      "metadata": {
        "id": "YJzJRLOiBkuo"
      },
      "execution_count": null,
      "outputs": []
    },
    {
      "cell_type": "markdown",
      "source": [
        "Si no se encontraron juegos válidos, se añade una fila “vacía” indicando que ese año no tuvo datos."
      ],
      "metadata": {
        "id": "9BH3PpbIBr9P"
      }
    },
    {
      "cell_type": "markdown",
      "source": [
        "**16. Agregar los juegos válidos al conjunto final**\n"
      ],
      "metadata": {
        "id": "sKmVAlRBBw4m"
      }
    },
    {
      "cell_type": "code",
      "source": [
        "else:\n",
        "    juegos_por_año.extend(juegos_este_año)"
      ],
      "metadata": {
        "id": "JovXjB13B8uh"
      },
      "execution_count": null,
      "outputs": []
    },
    {
      "cell_type": "markdown",
      "source": [
        "Si hubo juegos válidos, se añaden a la lista global juegos_por_año.\n",
        "\n"
      ],
      "metadata": {
        "id": "LZhT2hlzCA5y"
      }
    },
    {
      "cell_type": "markdown",
      "source": [
        "**17. Retornar la lista final**\n"
      ],
      "metadata": {
        "id": "L9dHCuvWCF06"
      }
    },
    {
      "cell_type": "code",
      "source": [
        "return juegos_por_año"
      ],
      "metadata": {
        "id": "rUqQtEx7COIl"
      },
      "execution_count": null,
      "outputs": []
    },
    {
      "cell_type": "markdown",
      "source": [
        "Devuelve todos los juegos recopilados (válidos o con “sin datos”).\n",
        "\n"
      ],
      "metadata": {
        "id": "bDLNB2n3CT_6"
      }
    },
    {
      "cell_type": "markdown",
      "source": [
        "**18. Función para guardar en CSV**\n"
      ],
      "metadata": {
        "id": "AmUN_RD9CfQh"
      }
    },
    {
      "cell_type": "code",
      "source": [
        "def guardar_csv(datos, archivo='videojuegos_1995_2024_completo.csv'):"
      ],
      "metadata": {
        "id": "hfDhRmCOCkEf"
      },
      "execution_count": null,
      "outputs": []
    },
    {
      "cell_type": "markdown",
      "source": [
        "Abre un archivo CSV y guarda los datos en columnas bien definidas."
      ],
      "metadata": {
        "id": "Ybr4eQ4SCn7K"
      }
    },
    {
      "cell_type": "code",
      "source": [
        "campos = ['nombre', 'fecha_lanzamiento', 'año', 'puntuacion_media', 'generos']\n",
        "writer = csv.DictWriter(f, fieldnames=campos)\n",
        "writer.writeheader()\n",
        "writer.writerows(datos)"
      ],
      "metadata": {
        "id": "AeK6vIDSC75A"
      },
      "execution_count": null,
      "outputs": []
    },
    {
      "cell_type": "markdown",
      "source": [
        "Escribe la cabecera y luego todas las filas del listado de videojuegos.\n",
        "\n"
      ],
      "metadata": {
        "id": "o53q_Rh2DCZo"
      }
    },
    {
      "cell_type": "markdown",
      "source": [
        "**19. Bloque de ejecución principal**\n",
        "\n"
      ],
      "metadata": {
        "id": "_EZon91vDD-r"
      }
    },
    {
      "cell_type": "code",
      "source": [
        "if __name__ == '__main__':\n",
        "    juegos = obtener_juegos_desde_1995(paginas_por_año=3)\n",
        "    guardar_csv(juegos)"
      ],
      "metadata": {
        "id": "OuglJZT9DMMp"
      },
      "execution_count": null,
      "outputs": []
    },
    {
      "cell_type": "markdown",
      "source": [
        "Ejecuta la descarga de los juegos.\n",
        "\n",
        "Guarda el resultado en un archivo CSV llamado: *videojuegos_1995_2024_completo.csv*"
      ],
      "metadata": {
        "id": "H8tTC9NuDi-b"
      }
    }
  ]
}