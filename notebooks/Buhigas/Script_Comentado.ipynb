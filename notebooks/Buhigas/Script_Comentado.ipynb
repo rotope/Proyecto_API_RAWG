{
  "cells": [
    {
      "cell_type": "markdown",
      "id": "529fbc09",
      "metadata": {
        "id": "529fbc09"
      },
      "source": [
        "# RAWG API: Descarga y Análisis de Videojuegos (1995–2024)\n",
        "Este notebook contiene una explicación razonada y paso a paso del script para obtener datos de videojuegos desde la API de RAWG, filtrando por puntuación y género, y guardándolos en un archivo CSV para su análisis posterior."
      ]
    },
    {
      "cell_type": "markdown",
      "id": "26812ee1",
      "metadata": {
        "id": "26812ee1"
      },
      "source": [
        "## 1. Importar librerías necesarias"
      ]
    },
    {
      "cell_type": "code",
      "execution_count": 1,
      "id": "ebe7113f",
      "metadata": {
        "id": "ebe7113f"
      },
      "outputs": [],
      "source": [
        "import requests\n",
        "import time\n",
        "import csv"
      ]
    },
    {
      "cell_type": "markdown",
      "id": "aa79dbfc",
      "metadata": {
        "id": "aa79dbfc"
      },
      "source": [
        "## 2. Definir clave de API y URL base de RAWG"
      ]
    },
    {
      "cell_type": "code",
      "execution_count": 2,
      "id": "c76dcaa0",
      "metadata": {
        "id": "c76dcaa0"
      },
      "outputs": [],
      "source": [
        "API_KEY = '9e9ab06256174d82a01dc73f02418ca2'\n",
        "BASE_URL = 'https://api.rawg.io/api/games'"
      ]
    },
    {
      "cell_type": "markdown",
      "id": "208c9f1b",
      "metadata": {
        "id": "208c9f1b"
      },
      "source": [
        "## 3️. Función para obtener videojuegos año por año desde 1995 hasta 2024"
      ]
    },
    {
      "cell_type": "code",
      "execution_count": 5,
      "id": "ad23d07a",
      "metadata": {
        "id": "ad23d07a"
      },
      "outputs": [],
      "source": [
        "def obtener_juegos_desde_1995(paginas_por_año=3):\n",
        "    '''\n",
        "    Recorre los años 1995–2024, descargando videojuegos válidos desde la API de RAWG.\n",
        "    Solo incluye juegos con puntuación y al menos un género.\n",
        "    '''\n",
        "    juegos_por_año = []  # Lista final donde se almacenarán todos los juegos\n",
        "\n",
        "    for año in range(1995, 2025):  # Recorrer del 1995 al 2024 (inclusive)\n",
        "        juegos_este_año = []  # Lista temporal para juegos del año actual\n",
        "\n",
        "        for pagina in range(1, paginas_por_año + 1):  # Hasta 3 páginas por año (por defecto)\n",
        "            params = {\n",
        "                'key': API_KEY,  # Clave personal de la API\n",
        "                'dates': f'{año}-01-01,{año}-12-31',  # Filtrado por año\n",
        "                'page': pagina,  # Página actual\n",
        "                'page_size': 40,  # Máximo por página permitido por la API\n",
        "                'ordering': '-rating'  # Orden descendente por puntuación\n",
        "            }\n",
        "\n",
        "            response = requests.get(BASE_URL, params=params)  # Hace la petición a la API\n",
        "\n",
        "            if response.status_code != 200:\n",
        "                print(f\"Error {response.status_code} en el año {año}, página {pagina}\")\n",
        "                break  # Si hay error, salir del bucle de páginas\n",
        "\n",
        "            data = response.json()  # Convertir respuesta en JSON\n",
        "\n",
        "            for juego in data.get('results', []):  # Iterar sobre los resultados de juegos\n",
        "                rating = juego.get('rating')\n",
        "                if rating and rating > 0 and juego.get('genres'):  # Solo juegos válidos\n",
        "                    juegos_este_año.append({\n",
        "                        'nombre': juego.get('name'),\n",
        "                        'fecha_lanzamiento': juego.get('released'),\n",
        "                        'año': año,\n",
        "                        'puntuacion_media': rating,\n",
        "                        'generos': ', '.join([g['slug'] for g in juego['genres']])  # Concatenar géneros\n",
        "                    })\n",
        "\n",
        "            if not data.get('next'):  # Si no hay más páginas, terminar bucle\n",
        "                break\n",
        "\n",
        "            time.sleep(1)  # Esperar 1 segundo para no saturar la API (rate limit)\n",
        "\n",
        "        # Si no se encontraron juegos válidos, añadir marcador 'Sin datos'\n",
        "        if not juegos_este_año:\n",
        "            juegos_por_año.append({\n",
        "                'nombre': 'Sin datos',\n",
        "                'fecha_lanzamiento': None,\n",
        "                'año': año,\n",
        "                'puntuacion_media': None,\n",
        "                'generos': 'sin_datos'\n",
        "            })\n",
        "        else:\n",
        "            juegos_por_año.extend(juegos_este_año)  # Añadir los juegos válidos al total\n",
        "\n",
        "    return juegos_por_año  # Devolver la lista con todos los juegos"
      ]
    },
    {
      "cell_type": "markdown",
      "id": "340f9d9f",
      "metadata": {
        "id": "340f9d9f"
      },
      "source": [
        "## 4️. Función para guardar los resultados en un archivo CSV"
      ]
    },
    {
      "cell_type": "code",
      "execution_count": null,
      "id": "45c8d6d7",
      "metadata": {
        "id": "45c8d6d7"
      },
      "outputs": [],
      "source": [
        "def guardar_csv(datos, archivo='videojuegos_1995_2024_completo.csv'):\n",
        "    '''Guarda los resultados en un archivo CSV con codificación UTF-8.'''\n",
        "    with open(archivo, 'w', newline='', encoding='utf-8') as f:\n",
        "        campos = ['nombre', 'fecha_lanzamiento', 'año', 'puntuacion_media', 'generos']\n",
        "        writer = csv.DictWriter(f, fieldnames=campos)\n",
        "        writer.writeheader()\n",
        "        writer.writerows(datos)"
      ]
    },
    {
      "cell_type": "markdown",
      "id": "1a6166c3",
      "metadata": {
        "id": "1a6166c3"
      },
      "source": [
        "## 5️. Ejecutar la descarga y guardar los datos"
      ]
    },
    {
      "cell_type": "code",
      "execution_count": 4,
      "id": "ba07c91f",
      "metadata": {
        "id": "ba07c91f"
      },
      "outputs": [],
      "source": [
        "# guardar_csv(juegos)"
      ]
    },
    {
      "cell_type": "markdown",
      "id": "b2406746",
      "metadata": {
        "id": "b2406746"
      },
      "source": [
        "## Aplicación de este notebook\n",
        "- Recorre los años de 1995 a 2024.\n",
        "- Recupera videojuegos con puntuación (> 0) y al menos un género.\n",
        "- Guarda hasta 3 páginas por año (40 juegos por página).\n",
        "- Inserta 'Sin datos' si un año no devuelve resultados válidos.\n",
        "- Guarda todo en `videojuegos_1995_2024_completo.csv` para análisis posterior."
      ]
    }
  ],
  "metadata": {
    "colab": {
      "provenance": []
    },
    "language_info": {
      "name": "python"
    },
    "kernelspec": {
      "name": "python3",
      "display_name": "Python 3"
    }
  },
  "nbformat": 4,
  "nbformat_minor": 5
}