{
 "cells": [
  {
   "cell_type": "markdown",
   "id": "9b3a2941",
   "metadata": {
    "id": "9b3a2941"
   },
   "source": [
    "## Análisis preliminar ##\n",
    "\n",
    "Este notebook forma parte de un proyecto de análisis de datos donde se trabaja con un archivo `JSON` extraído desde la API de RAWG.\n",
    "\n",
    "El objetivo de este script es preparar los datos para su posterior análisis. Se utiliza la biblioteca `pandas` para limpiar y estructurar la información, filtrando solo los videojuegos que cuentan con:\n",
    "\n",
    "- Fecha de lanzamiento válida (`released`)\n",
    "- Puntuación (`rating`)\n",
    "- Al menos un género asignado (`genres`)\n",
    "- Fechas comprendidas entre 1995 y 2024\n",
    "\n",
    "El resultado es un DataFrame limpio y útil, que incluye columnas como el nombre del juego, la fecha de lanzamiento, la puntuación media y los géneros asociados preparado para un análisis exploratorio o visualizaciones posteriores."
   ]
  },
  {
   "cell_type": "code",
   "execution_count": 2,
   "id": "031fa34b",
   "metadata": {
    "id": "031fa34b"
   },
   "outputs": [
    {
     "name": "stdout",
     "output_type": "stream",
     "text": [
      "                     nombre fecha_lanzamiento  puntuacion_media  \\\n",
      "0  The Witcher 3: Wild Hunt        2015-05-18              4.65   \n",
      "1           Life is Strange        2015-01-29              4.12   \n",
      "2                 Fallout 4        2015-11-09              3.81   \n",
      "3             Rocket League        2015-07-07              3.93   \n",
      "4   Rise of the Tomb Raider        2015-11-10              4.04   \n",
      "\n",
      "                          generos  \n",
      "0  action, role-playing-games-rpg  \n",
      "1                       adventure  \n",
      "2  action, role-playing-games-rpg  \n",
      "3           racing, indie, sports  \n",
      "4                          action  \n"
     ]
    }
   ],
   "source": [
    "import pandas as pd\n",
    "\n",
    "# 1. Cargar el JSON descargado previamente\n",
    "df = pd.read_json('C:/Users/nacio/Downloads/juegos_rawg.json')\n",
    "\n",
    "# 2. Filtrar registros válidos (con fecha, rating y géneros)\n",
    "df = df[df['released'].notna() & df['rating'].notna() & df['genres'].notna()]\n",
    "\n",
    "# 3. Convertir la fecha a tipo datetime y filtrar por rango 1995–2024\n",
    "df['fecha_lanzamiento'] = pd.to_datetime(df['released'], errors='coerce')\n",
    "df = df[(df['fecha_lanzamiento'].dt.year >= 1995) & (df['fecha_lanzamiento'].dt.year <= 2024)]\n",
    "\n",
    "# 4. Seleccionar columnas y transformar los géneros a texto\n",
    "df_final = pd.DataFrame({\n",
    "    'nombre': df['name'],\n",
    "    'fecha_lanzamiento': df['fecha_lanzamiento'],\n",
    "    'puntuacion_media': df['rating'],\n",
    "    'generos': df['genres'].apply(lambda lista: ', '.join([g['slug'] for g in lista]))\n",
    "})\n",
    "\n",
    "# 5. Vista previa\n",
    "print(df_final.head())"
   ]
  },
  {
   "cell_type": "code",
   "execution_count": null,
   "id": "5090fe5f-5369-4381-a8d6-aae0c3da1f46",
   "metadata": {},
   "outputs": [],
   "source": []
  }
 ],
 "metadata": {
  "colab": {
   "provenance": []
  },
  "kernelspec": {
   "display_name": "Python [conda env:base] *",
   "language": "python",
   "name": "conda-base-py"
  },
  "language_info": {
   "codemirror_mode": {
    "name": "ipython",
    "version": 3
   },
   "file_extension": ".py",
   "mimetype": "text/x-python",
   "name": "python",
   "nbconvert_exporter": "python",
   "pygments_lexer": "ipython3",
   "version": "3.12.7"
  }
 },
 "nbformat": 4,
 "nbformat_minor": 5
}
