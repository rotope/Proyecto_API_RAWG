{
  "cells": [
    {
      "cell_type": "markdown",
      "id": "9b3a2941",
      "metadata": {
        "id": "9b3a2941"
      },
      "source": [
        "## Análisis preliminar ##\n",
        "\n",
        "Este notebook forma parte de un proyecto de análisis de datos donde se trabaja con un archivo `JSON` extraído desde la API de RAWG.\n",
        "\n",
        "El objetivo de este script es preparar los datos para su posterior análisis. Se utiliza la biblioteca `pandas` para limpiar y estructurar la información, filtrando solo los videojuegos que cuentan con:\n",
        "\n",
        "- Fecha de lanzamiento válida (`released`)\n",
        "- Puntuación (`rating`)\n",
        "- Al menos un género asignado (`genres`)\n",
        "- Fechas comprendidas entre 1995 y 2024\n",
        "\n",
        "El resultado es un DataFrame limpio y útil, que incluye columnas como el nombre del juego, la fecha de lanzamiento, la puntuación media y los géneros asociados preparado para un análisis exploratorio o visualizaciones posteriores."
      ]
    },
    {
      "cell_type": "code",
      "execution_count": null,
      "id": "031fa34b",
      "metadata": {
        "id": "031fa34b"
      },
      "outputs": [],
      "source": [
        "import pandas as pd\n",
        "\n",
        "# 1. Cargar el JSON descargado previamente\n",
        "df = pd.read_json('../../data/raw/juegos_rawg.json')\n",
        "\n",
        "# 2. Filtrar registros válidos (con fecha, rating y géneros)\n",
        "df = df[df['released'].notna() & df['rating'].notna() & df['genres'].notna()]\n",
        "\n",
        "# 3. Convertir la fecha a tipo datetime y filtrar por rango 1995–2024\n",
        "df['fecha_lanzamiento'] = pd.to_datetime(df['released'], errors='coerce')\n",
        "df = df[(df['fecha_lanzamiento'].dt.year >= 1995) & (df['fecha_lanzamiento'].dt.year <= 2024)]\n",
        "\n",
        "# 4. Seleccionar columnas y transformar los géneros a texto\n",
        "df_final = pd.DataFrame({\n",
        "    'nombre': df['name'],\n",
        "    'fecha_lanzamiento': df['fecha_lanzamiento'],\n",
        "    'puntuacion_media': df['rating'],\n",
        "    'generos': df['genres'].apply(lambda lista: ', '.join([g['slug'] for g in lista]))\n",
        "})\n",
        "\n",
        "# 5. Vista previa\n",
        "print(df_final.head())"
      ]
    }
  ],
  "metadata": {
    "colab": {
      "provenance": []
    }
  },
  "nbformat": 4,
  "nbformat_minor": 5
}