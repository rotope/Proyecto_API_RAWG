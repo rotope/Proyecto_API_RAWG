{
  "cells": [
    {
      "cell_type": "markdown",
      "id": "2be409a0",
      "metadata": {
        "id": "2be409a0"
      },
      "source": [
        "##Año de publicación vs. Número medio de géneros##\n",
        "\n",
        "Este notebook explora de forma visual y original si los videojuegos más recientes tienden a tener más géneros asignados que los antiguos. Para ello, se usa un gráfico de burbujas interactivo, donde cada punto representa un año y el tamaño de la burbuja indica el número medio de géneros por juego."
      ]
    },
    {
      "cell_type": "code",
      "execution_count": null,
      "id": "b41b8b5f",
      "metadata": {
        "id": "b41b8b5f"
      },
      "outputs": [],
      "source": [
        "import pandas as pd\n",
        "import plotly.express as px\n",
        "\n",
        "# Cargar y filtrar datos\n",
        "df = pd.read_json('../../data/raw/juegos_rawg.json')\n",
        "df = df[\n",
        "    df['released'].notna() &\n",
        "    df['rating'].notna() &\n",
        "    df['genres'].apply(lambda g: isinstance(g, list) and len(g) > 0)\n",
        "]\n",
        "\n",
        "# Extraer año y contar géneros\n",
        "df['fecha_lanzamiento'] = pd.to_datetime(df['released'], errors='coerce')\n",
        "df = df[df['fecha_lanzamiento'].notna()]\n",
        "df['año'] = df['fecha_lanzamiento'].dt.year\n",
        "df['n_generos'] = df['genres'].apply(lambda g: len(g) if isinstance(g, list) else 0)\n",
        "\n",
        "# Calcular media por año\n",
        "generos_por_año = df.groupby('año')['n_generos'].mean().reset_index()\n",
        "\n",
        "# Gráfico de burbujas interactivo\n",
        "fig = px.scatter(\n",
        "    generos_por_año,\n",
        "    x='año',\n",
        "    y='n_generos',\n",
        "    size='n_generos',\n",
        "    color='n_generos',\n",
        "    title='Evolución del número medio de géneros por juego',\n",
        "    labels={'n_generos': 'Media de géneros', 'año': 'Año'},\n",
        "    hover_name='año',\n",
        "    size_max=30,\n",
        "    color_continuous_scale='Viridis'\n",
        ")\n",
        "fig.show()"
      ]
    },
    {
      "cell_type": "markdown",
      "id": "c2faaf02",
      "metadata": {
        "id": "c2faaf02"
      },
      "source": [
        "## Conclusión ##\n",
        "\n",
        "Este gráfico de burbujas permite observar cómo ha evolucionado el número medio de géneros por videojuego a lo largo de los años.\n",
        "\n",
        "Cada burbuja representa un año. Su tamaño y color indican la media de géneros por juego. Si las burbujas crecen con el tiempo, podemos inferir una tendencia hacia juegos más híbridos o complejos. Si se mantienen estables o decrecen, la industria podría estar especializándose más.\n",
        "\n",
        "Esta forma de visualización es útil para detectar patrones generales de evolución y posibles cambios en la clasificación temática de los videojuegos a lo largo del tiempo."
      ]
    }
  ],
  "metadata": {
    "colab": {
      "provenance": []
    }
  },
  "nbformat": 4,
  "nbformat_minor": 5
}