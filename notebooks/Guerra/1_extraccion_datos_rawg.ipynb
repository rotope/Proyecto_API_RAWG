{
 "cells": [
  {
   "cell_type": "markdown",
   "id": "3459d030",
   "metadata": {},
   "source": [
    "# 1. Extracción de datos desde la API de RAWG\n",
    "\n",
    "Este notebook contiene la función encargada de extraer los datos desde la API pública de RAWG, la cual será utilizada por todos los miembros del grupo para responder a sus respectivas subpreguntas.\n",
    "\n",
    "La función `obtener_juegos_por_anio()` permite recopilar información de videojuegos publicados entre un rango de años, devolviendo un DataFrame con los campos proporcionados por la API.\n",
    "\n",
    "Además, la función `juegos_json()` permite guardar los resultados en un archivo `.csv` dentro del directorio `../data/raw/` para su posterior procesamiento.\n"
   ]
  },
  {
   "cell_type": "code",
   "execution_count": null,
   "id": "ab4081c4",
   "metadata": {},
   "outputs": [],
   "source": [
    "import requests\n",
    "import pandas as pd\n",
    "from tqdm.notebook import tqdm\n",
    "import time\n",
    "import os"
   ]
  },
  {
   "cell_type": "code",
   "execution_count": null,
   "id": "9cbba1a6",
   "metadata": {},
   "outputs": [],
   "source": [
    "API_KEY = \"9e9ab06256174d82a01dc73f02418ca2\"\n",
    "\n",
    "def obtener_juegos_por_anio(inicio=2015, fin=2024, paginas=5, pausa=1):\n",
    "    juegos_lista = []\n",
    "\n",
    "    for year in tqdm(range(inicio, fin + 1), desc=\"Años\"):\n",
    "        for page in tqdm(range(1, paginas + 1), desc=f\"Año {year}\", leave=False):\n",
    "            url = (\n",
    "                f\"https://api.rawg.io/api/games\"\n",
    "                f\"?key={API_KEY}&dates={year}-01-01,{year}-12-31\"\n",
    "                f\"&page_size=40&page={page}\"\n",
    "            )\n",
    "            try:\n",
    "                r = requests.get(url)\n",
    "                r.raise_for_status()  # Lanza excepción si hay error\n",
    "                juegos = r.json().get('results', [])\n",
    "                if not juegos:\n",
    "                    print(f\"Sin resultados en {year}, página {page}\")\n",
    "                    break\n",
    "                juegos_lista.extend(juegos)\n",
    "            except requests.RequestException as e:\n",
    "                print(f\"Error en {year}, página {page}: {e}\")\n",
    "                continue\n",
    "\n",
    "            time.sleep(pausa)  # Pausa para no saturar la API\n",
    "\n",
    "    df = pd.json_normalize(juegos_lista)\n",
    "    print(f\"\\nTotal de juegos obtenidos: {len(df)}\")\n",
    "    return df\n"
   ]
  },
  {
   "cell_type": "code",
   "execution_count": null,
   "id": "8d2cbc39",
   "metadata": {},
   "outputs": [],
   "source": [
    "\n",
    "\n",
    "def juegos_json(inicio=2015, fin=2024, paginas=5, pausa=1, path=\"../data/raw/juegos_rawg.json\"):\n",
    "\n",
    "    print(\"Obteniendo datos desde la API de RAWG...\")\n",
    "   \n",
    "    df = obtener_juegos_por_anio(inicio=inicio, fin=fin, paginas=paginas, pausa=pausa)\n",
    "\n",
    "    # Guardar en CSV\n",
    "    # df.to_csv(path, index=False)\n",
    "    # print(f\"Archivo guardado en: {path}\")\n",
    "\n",
    "     # Guardar en JSON\n",
    "    df.to_json(path, index=False)\n",
    "    print(f\"Archivo guardado en: {path}\")\n",
    "\n",
    "\n",
    "\n"
   ]
  },
  {
   "cell_type": "code",
   "execution_count": null,
   "id": "a2b50913",
   "metadata": {},
   "outputs": [],
   "source": [
    "juegos_json(inicio=2015, fin=2024, paginas=5, pausa=1, path=\"../data/raw/juegos_rawg.json\")\n"
   ]
  },
  {
   "cell_type": "code",
   "execution_count": null,
   "id": "62b69718",
   "metadata": {},
   "outputs": [],
   "source": []
  }
 ],
 "metadata": {
  "kernelspec": {
   "display_name": "base",
   "language": "python",
   "name": "python3"
  },
  "language_info": {
   "codemirror_mode": {
    "name": "ipython",
    "version": 3
   },
   "file_extension": ".py",
   "mimetype": "text/x-python",
   "name": "python",
   "nbconvert_exporter": "python",
   "pygments_lexer": "ipython3",
   "version": "3.12.7"
  }
 },
 "nbformat": 4,
 "nbformat_minor": 5
}
