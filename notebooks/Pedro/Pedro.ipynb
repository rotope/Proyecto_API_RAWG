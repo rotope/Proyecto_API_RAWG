{
 "cells": [
  {
   "cell_type": "markdown",
   "id": "33cebbf6-ca45-4937-ad32-3d3a3e8d53ec",
   "metadata": {},
   "source": [
    "## ¿Qué géneros de videojuegos han sido más populares cada año?"
   ]
  },
  {
   "cell_type": "markdown",
   "id": "717c0949-0bcc-46d3-9f94-79d7f3edea84",
   "metadata": {},
   "source": [
    "Para responder a esta pregunta haremos lo siguiente:\n",
    "\n",
    "- Primero vamos a extraer los datos de la API desde los años 2015 hasta el 2024, que son los años que vamos a trabajar.\n",
    "- Luego limpiaremos los datos extraidos para utilizar los que nos sean necesarios para responder a esta pregunta adecuadamente.\n",
    "- Por último mostraremos los datos en diferentes gráficas."
   ]
  },
  {
   "cell_type": "markdown",
   "id": "cb4511de-b84c-42cc-843e-2c7e54fdce78",
   "metadata": {},
   "source": [
    "### Extracción de datos:"
   ]
  },
  {
   "cell_type": "markdown",
   "id": "2ca39121-2f0d-4078-a54e-3ef83e99f853",
   "metadata": {},
   "source": [
    "- Importamos las librerias que vamos a necesitar para el proyecto.\n",
    "- Almacenamos la API key en una variable para utilizarla en la función de extracción de datos.\n",
    "- Creamos la función para obtener los datos utilizando nuesta API key."
   ]
  },
  {
   "cell_type": "code",
   "execution_count": 74,
   "id": "f9c736c2-2c05-415d-af34-15f7549812fa",
   "metadata": {},
   "outputs": [],
   "source": [
    "#Importación de las librerias necesarias para el proyecto.\n",
    "\n",
    "import requests\n",
    "import pandas as pd\n",
    "from tqdm import tqdm\n",
    "import time\n",
    "import seaborn as sns\n",
    "import matplotlib.pyplot as plt\n",
    "import numpy as np\n",
    "import os\n",
    "\n",
    "#Almacenado de la API key en una variable.\n",
    "\n",
    "API_KEY = \"9e9ab06256174d82a01dc73f02418ca2\"\n",
    "\n",
    "#Función de extracción de los datos utilizando la API key almacenada anteriormente.\n",
    "\n",
    "def obtener_juegos_por_anio(inicio=2024, fin=2024):\n",
    "    juegos_lista = []\n",
    "    for year in tqdm(range(inicio, fin + 1)):\n",
    "        for page in range(1, 6):\n",
    "            url = f\"https://api.rawg.io/api/games?key={API_KEY}&dates={year}-01-01,{year}-12-31&page_size=40&page={page}\"\n",
    "            r = requests.get(url)\n",
    "            if r.status_code == 200: #Si nos arroja un código 200, almacenamos el dato, ya que es el código que confirma que la operación ha tenido éxito.\n",
    "                juegos = r.json()['results']\n",
    "                juegos_lista.extend(juegos)\n",
    "                time.sleep(1)\n",
    "            else: #Si no nos arroja un código 200, es que ha habido un error, lo trabajamos para poder seguir con la extracción.\n",
    "                print(f\"Error en el año {year}, página {page}\")\n",
    "    return pd.json_normalize(juegos_lista)"
   ]
  },
  {
   "cell_type": "code",
   "execution_count": 76,
   "id": "3b497246-5a3e-496f-8c9b-e0e275f1fbf9",
   "metadata": {
    "scrolled": true
   },
   "outputs": [
    {
     "name": "stderr",
     "output_type": "stream",
     "text": [
      "100%|██████████| 10/10 [01:24<00:00,  8.46s/it]\n"
     ]
    }
   ],
   "source": [
    "#Almacenamos los datos extraidos en una variable 'df', este será nuestro dataframe.\n",
    "df = obtener_juegos_por_anio(2015, 2024)"
   ]
  },
  {
   "cell_type": "markdown",
   "id": "757e8234-f67e-4ff2-beda-4ddf36088b03",
   "metadata": {},
   "source": [
    "- Por último almacenamos los datos en una variable que vamos a llamar \"df\" y hacemos un \"df.info()\" para dar una primera visualización a los datos y trabajar con ellos."
   ]
  },
  {
   "cell_type": "code",
   "execution_count": 6,
   "id": "81287741-9f1e-4ca6-a031-3173e8b8c34e",
   "metadata": {
    "scrolled": true
   },
   "outputs": [
    {
     "name": "stdout",
     "output_type": "stream",
     "text": [
      "<class 'pandas.core.frame.DataFrame'>\n",
      "RangeIndex: 2000 entries, 0 to 1999\n",
      "Data columns (total 41 columns):\n",
      " #   Column                   Non-Null Count  Dtype  \n",
      "---  ------                   --------------  -----  \n",
      " 0   slug                     2000 non-null   object \n",
      " 1   name                     2000 non-null   object \n",
      " 2   playtime                 2000 non-null   int64  \n",
      " 3   platforms                2000 non-null   object \n",
      " 4   stores                   1989 non-null   object \n",
      " 5   released                 2000 non-null   object \n",
      " 6   tba                      2000 non-null   bool   \n",
      " 7   background_image         1999 non-null   object \n",
      " 8   rating                   2000 non-null   float64\n",
      " 9   rating_top               2000 non-null   int64  \n",
      " 10  ratings                  2000 non-null   object \n",
      " 11  ratings_count            2000 non-null   int64  \n",
      " 12  reviews_text_count       2000 non-null   int64  \n",
      " 13  added                    2000 non-null   int64  \n",
      " 14  metacritic               1056 non-null   float64\n",
      " 15  suggestions_count        2000 non-null   int64  \n",
      " 16  updated                  2000 non-null   object \n",
      " 17  id                       2000 non-null   int64  \n",
      " 18  score                    0 non-null      object \n",
      " 19  clip                     0 non-null      object \n",
      " 20  tags                     2000 non-null   object \n",
      " 21  user_game                0 non-null      object \n",
      " 22  reviews_count            2000 non-null   int64  \n",
      " 23  saturated_color          2000 non-null   object \n",
      " 24  dominant_color           2000 non-null   object \n",
      " 25  short_screenshots        2000 non-null   object \n",
      " 26  parent_platforms         2000 non-null   object \n",
      " 27  genres                   2000 non-null   object \n",
      " 28  added_by_status.yet      1994 non-null   float64\n",
      " 29  added_by_status.owned    2000 non-null   int64  \n",
      " 30  added_by_status.beaten   1934 non-null   float64\n",
      " 31  added_by_status.toplay   1958 non-null   float64\n",
      " 32  added_by_status.dropped  1974 non-null   float64\n",
      " 33  added_by_status.playing  1853 non-null   float64\n",
      " 34  esrb_rating.id           1002 non-null   float64\n",
      " 35  esrb_rating.name         1002 non-null   object \n",
      " 36  esrb_rating.slug         1002 non-null   object \n",
      " 37  esrb_rating.name_en      1002 non-null   object \n",
      " 38  esrb_rating.name_ru      1002 non-null   object \n",
      " 39  esrb_rating              0 non-null      float64\n",
      " 40  community_rating         58 non-null     float64\n",
      "dtypes: bool(1), float64(10), int64(9), object(21)\n",
      "memory usage: 627.1+ KB\n"
     ]
    }
   ],
   "source": [
    "df.info()"
   ]
  },
  {
   "cell_type": "markdown",
   "id": "75c4f64b-c32e-4ef8-8e33-9db3a73bc552",
   "metadata": {},
   "source": [
    "- Adicionalmente podemos hacer un \"df.head()\" o un \"df.tail()\" para dar un vistazo más profundo a los datos."
   ]
  },
  {
   "cell_type": "code",
   "execution_count": 9,
   "id": "961e2b46-5c10-4dcf-86a4-e3bbea962bc5",
   "metadata": {},
   "outputs": [
    {
     "data": {
      "text/html": [
       "<div>\n",
       "<style scoped>\n",
       "    .dataframe tbody tr th:only-of-type {\n",
       "        vertical-align: middle;\n",
       "    }\n",
       "\n",
       "    .dataframe tbody tr th {\n",
       "        vertical-align: top;\n",
       "    }\n",
       "\n",
       "    .dataframe thead th {\n",
       "        text-align: right;\n",
       "    }\n",
       "</style>\n",
       "<table border=\"1\" class=\"dataframe\">\n",
       "  <thead>\n",
       "    <tr style=\"text-align: right;\">\n",
       "      <th></th>\n",
       "      <th>slug</th>\n",
       "      <th>name</th>\n",
       "      <th>playtime</th>\n",
       "      <th>platforms</th>\n",
       "      <th>stores</th>\n",
       "      <th>released</th>\n",
       "      <th>tba</th>\n",
       "      <th>background_image</th>\n",
       "      <th>rating</th>\n",
       "      <th>rating_top</th>\n",
       "      <th>...</th>\n",
       "      <th>added_by_status.toplay</th>\n",
       "      <th>added_by_status.dropped</th>\n",
       "      <th>added_by_status.playing</th>\n",
       "      <th>esrb_rating.id</th>\n",
       "      <th>esrb_rating.name</th>\n",
       "      <th>esrb_rating.slug</th>\n",
       "      <th>esrb_rating.name_en</th>\n",
       "      <th>esrb_rating.name_ru</th>\n",
       "      <th>esrb_rating</th>\n",
       "      <th>community_rating</th>\n",
       "    </tr>\n",
       "  </thead>\n",
       "  <tbody>\n",
       "    <tr>\n",
       "      <th>0</th>\n",
       "      <td>the-witcher-3-wild-hunt</td>\n",
       "      <td>The Witcher 3: Wild Hunt</td>\n",
       "      <td>43</td>\n",
       "      <td>[{'platform': {'id': 4, 'name': 'PC', 'slug': ...</td>\n",
       "      <td>[{'store': {'id': 1, 'name': 'Steam', 'slug': ...</td>\n",
       "      <td>2015-05-18</td>\n",
       "      <td>False</td>\n",
       "      <td>https://media.rawg.io/media/games/618/618c2031...</td>\n",
       "      <td>4.65</td>\n",
       "      <td>5</td>\n",
       "      <td>...</td>\n",
       "      <td>832.0</td>\n",
       "      <td>991.0</td>\n",
       "      <td>892.0</td>\n",
       "      <td>4.0</td>\n",
       "      <td>Mature</td>\n",
       "      <td>mature</td>\n",
       "      <td>Mature</td>\n",
       "      <td>С 17 лет</td>\n",
       "      <td>NaN</td>\n",
       "      <td>NaN</td>\n",
       "    </tr>\n",
       "    <tr>\n",
       "      <th>1</th>\n",
       "      <td>life-is-strange-episode-1-2</td>\n",
       "      <td>Life is Strange</td>\n",
       "      <td>6</td>\n",
       "      <td>[{'platform': {'id': 4, 'name': 'PC', 'slug': ...</td>\n",
       "      <td>[{'store': {'id': 1, 'name': 'Steam', 'slug': ...</td>\n",
       "      <td>2015-01-29</td>\n",
       "      <td>False</td>\n",
       "      <td>https://media.rawg.io/media/games/562/56255381...</td>\n",
       "      <td>4.12</td>\n",
       "      <td>5</td>\n",
       "      <td>...</td>\n",
       "      <td>367.0</td>\n",
       "      <td>659.0</td>\n",
       "      <td>152.0</td>\n",
       "      <td>4.0</td>\n",
       "      <td>Mature</td>\n",
       "      <td>mature</td>\n",
       "      <td>Mature</td>\n",
       "      <td>С 17 лет</td>\n",
       "      <td>NaN</td>\n",
       "      <td>NaN</td>\n",
       "    </tr>\n",
       "    <tr>\n",
       "      <th>2</th>\n",
       "      <td>fallout-4</td>\n",
       "      <td>Fallout 4</td>\n",
       "      <td>38</td>\n",
       "      <td>[{'platform': {'id': 4, 'name': 'PC', 'slug': ...</td>\n",
       "      <td>[{'store': {'id': 1, 'name': 'Steam', 'slug': ...</td>\n",
       "      <td>2015-11-09</td>\n",
       "      <td>False</td>\n",
       "      <td>https://media.rawg.io/media/games/d82/d82990b9...</td>\n",
       "      <td>3.81</td>\n",
       "      <td>4</td>\n",
       "      <td>...</td>\n",
       "      <td>439.0</td>\n",
       "      <td>1362.0</td>\n",
       "      <td>322.0</td>\n",
       "      <td>4.0</td>\n",
       "      <td>Mature</td>\n",
       "      <td>mature</td>\n",
       "      <td>Mature</td>\n",
       "      <td>С 17 лет</td>\n",
       "      <td>NaN</td>\n",
       "      <td>NaN</td>\n",
       "    </tr>\n",
       "    <tr>\n",
       "      <th>3</th>\n",
       "      <td>rocket-league</td>\n",
       "      <td>Rocket League</td>\n",
       "      <td>21</td>\n",
       "      <td>[{'platform': {'id': 4, 'name': 'PC', 'slug': ...</td>\n",
       "      <td>[{'store': {'id': 1, 'name': 'Steam', 'slug': ...</td>\n",
       "      <td>2015-07-07</td>\n",
       "      <td>False</td>\n",
       "      <td>https://media.rawg.io/media/games/8cc/8cce7c0e...</td>\n",
       "      <td>3.93</td>\n",
       "      <td>4</td>\n",
       "      <td>...</td>\n",
       "      <td>114.0</td>\n",
       "      <td>1676.0</td>\n",
       "      <td>542.0</td>\n",
       "      <td>1.0</td>\n",
       "      <td>Everyone</td>\n",
       "      <td>everyone</td>\n",
       "      <td>Everyone</td>\n",
       "      <td>Для всех</td>\n",
       "      <td>NaN</td>\n",
       "      <td>NaN</td>\n",
       "    </tr>\n",
       "    <tr>\n",
       "      <th>4</th>\n",
       "      <td>rise-of-the-tomb-raider</td>\n",
       "      <td>Rise of the Tomb Raider</td>\n",
       "      <td>14</td>\n",
       "      <td>[{'platform': {'id': 4, 'name': 'PC', 'slug': ...</td>\n",
       "      <td>[{'store': {'id': 1, 'name': 'Steam', 'slug': ...</td>\n",
       "      <td>2015-11-10</td>\n",
       "      <td>False</td>\n",
       "      <td>https://media.rawg.io/media/games/b45/b45575f3...</td>\n",
       "      <td>4.04</td>\n",
       "      <td>4</td>\n",
       "      <td>...</td>\n",
       "      <td>400.0</td>\n",
       "      <td>431.0</td>\n",
       "      <td>158.0</td>\n",
       "      <td>NaN</td>\n",
       "      <td>NaN</td>\n",
       "      <td>NaN</td>\n",
       "      <td>NaN</td>\n",
       "      <td>NaN</td>\n",
       "      <td>NaN</td>\n",
       "      <td>NaN</td>\n",
       "    </tr>\n",
       "  </tbody>\n",
       "</table>\n",
       "<p>5 rows × 41 columns</p>\n",
       "</div>"
      ],
      "text/plain": [
       "                          slug                      name  playtime  \\\n",
       "0      the-witcher-3-wild-hunt  The Witcher 3: Wild Hunt        43   \n",
       "1  life-is-strange-episode-1-2           Life is Strange         6   \n",
       "2                    fallout-4                 Fallout 4        38   \n",
       "3                rocket-league             Rocket League        21   \n",
       "4      rise-of-the-tomb-raider   Rise of the Tomb Raider        14   \n",
       "\n",
       "                                           platforms  \\\n",
       "0  [{'platform': {'id': 4, 'name': 'PC', 'slug': ...   \n",
       "1  [{'platform': {'id': 4, 'name': 'PC', 'slug': ...   \n",
       "2  [{'platform': {'id': 4, 'name': 'PC', 'slug': ...   \n",
       "3  [{'platform': {'id': 4, 'name': 'PC', 'slug': ...   \n",
       "4  [{'platform': {'id': 4, 'name': 'PC', 'slug': ...   \n",
       "\n",
       "                                              stores    released    tba  \\\n",
       "0  [{'store': {'id': 1, 'name': 'Steam', 'slug': ...  2015-05-18  False   \n",
       "1  [{'store': {'id': 1, 'name': 'Steam', 'slug': ...  2015-01-29  False   \n",
       "2  [{'store': {'id': 1, 'name': 'Steam', 'slug': ...  2015-11-09  False   \n",
       "3  [{'store': {'id': 1, 'name': 'Steam', 'slug': ...  2015-07-07  False   \n",
       "4  [{'store': {'id': 1, 'name': 'Steam', 'slug': ...  2015-11-10  False   \n",
       "\n",
       "                                    background_image  rating  rating_top  ...  \\\n",
       "0  https://media.rawg.io/media/games/618/618c2031...    4.65           5  ...   \n",
       "1  https://media.rawg.io/media/games/562/56255381...    4.12           5  ...   \n",
       "2  https://media.rawg.io/media/games/d82/d82990b9...    3.81           4  ...   \n",
       "3  https://media.rawg.io/media/games/8cc/8cce7c0e...    3.93           4  ...   \n",
       "4  https://media.rawg.io/media/games/b45/b45575f3...    4.04           4  ...   \n",
       "\n",
       "  added_by_status.toplay  added_by_status.dropped  added_by_status.playing  \\\n",
       "0                  832.0                    991.0                    892.0   \n",
       "1                  367.0                    659.0                    152.0   \n",
       "2                  439.0                   1362.0                    322.0   \n",
       "3                  114.0                   1676.0                    542.0   \n",
       "4                  400.0                    431.0                    158.0   \n",
       "\n",
       "   esrb_rating.id  esrb_rating.name  esrb_rating.slug esrb_rating.name_en  \\\n",
       "0             4.0            Mature            mature              Mature   \n",
       "1             4.0            Mature            mature              Mature   \n",
       "2             4.0            Mature            mature              Mature   \n",
       "3             1.0          Everyone          everyone            Everyone   \n",
       "4             NaN               NaN               NaN                 NaN   \n",
       "\n",
       "   esrb_rating.name_ru esrb_rating community_rating  \n",
       "0             С 17 лет         NaN              NaN  \n",
       "1             С 17 лет         NaN              NaN  \n",
       "2             С 17 лет         NaN              NaN  \n",
       "3             Для всех         NaN              NaN  \n",
       "4                  NaN         NaN              NaN  \n",
       "\n",
       "[5 rows x 41 columns]"
      ]
     },
     "execution_count": 9,
     "metadata": {},
     "output_type": "execute_result"
    }
   ],
   "source": [
    "df.head()"
   ]
  },
  {
   "cell_type": "code",
   "execution_count": 11,
   "id": "f329c50c-cdc3-4610-a5a6-47248d444ea7",
   "metadata": {},
   "outputs": [],
   "source": [
    "# Si queremos almacenar los datos extraidos en un archivo .csv utilizaremos la siguiente línea de código.\n",
    "# df.to_csv(\"juegos_2015_2024.csv\", index=False)"
   ]
  },
  {
   "cell_type": "markdown",
   "id": "98de4cf5-d990-49ce-bf33-80b8c1915512",
   "metadata": {},
   "source": [
    "## Limpieza y transformación de datos"
   ]
  },
  {
   "cell_type": "markdown",
   "id": "7b287291-aa34-443b-bb94-0bbd1151d85d",
   "metadata": {},
   "source": [
    "A continuación queremos limpiar los datos para trabajar con ellos según nuestras necesidades. Como en este caso lo que queremos es saber que generos de videojuegos han sido mas populares, segun el año, y además, hemos podido comprobar que la columna 'genres', que es la que vamos a trabajar principalmente, no tiene nulos. Haremos lo siguiente:\n",
    "\n",
    "- Nos vamos a quedar con las columnas 'name', 'released' y 'genres'"
   ]
  },
  {
   "cell_type": "code",
   "execution_count": 82,
   "id": "c593c651-2912-465c-84b2-6d6af22b6f06",
   "metadata": {},
   "outputs": [],
   "source": [
    "df = pd.read_json('../../data/raw/juegos_rawg.json')"
   ]
  },
  {
   "cell_type": "code",
   "execution_count": 84,
   "id": "1a697813-bb95-4b1d-b080-f7d7f5c474ce",
   "metadata": {
    "scrolled": true
   },
   "outputs": [
    {
     "data": {
      "text/html": [
       "<div>\n",
       "<style scoped>\n",
       "    .dataframe tbody tr th:only-of-type {\n",
       "        vertical-align: middle;\n",
       "    }\n",
       "\n",
       "    .dataframe tbody tr th {\n",
       "        vertical-align: top;\n",
       "    }\n",
       "\n",
       "    .dataframe thead th {\n",
       "        text-align: right;\n",
       "    }\n",
       "</style>\n",
       "<table border=\"1\" class=\"dataframe\">\n",
       "  <thead>\n",
       "    <tr style=\"text-align: right;\">\n",
       "      <th></th>\n",
       "      <th>name</th>\n",
       "      <th>released</th>\n",
       "      <th>genres</th>\n",
       "      <th>added</th>\n",
       "      <th>playtime</th>\n",
       "    </tr>\n",
       "  </thead>\n",
       "  <tbody>\n",
       "    <tr>\n",
       "      <th>0</th>\n",
       "      <td>The Witcher 3: Wild Hunt</td>\n",
       "      <td>2015-05-18</td>\n",
       "      <td>[{'id': 4, 'name': 'Action', 'slug': 'action'}...</td>\n",
       "      <td>21662</td>\n",
       "      <td>43</td>\n",
       "    </tr>\n",
       "    <tr>\n",
       "      <th>1</th>\n",
       "      <td>Life is Strange</td>\n",
       "      <td>2015-01-29</td>\n",
       "      <td>[{'id': 3, 'name': 'Adventure', 'slug': 'adven...</td>\n",
       "      <td>15758</td>\n",
       "      <td>6</td>\n",
       "    </tr>\n",
       "    <tr>\n",
       "      <th>2</th>\n",
       "      <td>Fallout 4</td>\n",
       "      <td>2015-11-09</td>\n",
       "      <td>[{'id': 4, 'name': 'Action', 'slug': 'action'}...</td>\n",
       "      <td>14082</td>\n",
       "      <td>38</td>\n",
       "    </tr>\n",
       "    <tr>\n",
       "      <th>3</th>\n",
       "      <td>Rocket League</td>\n",
       "      <td>2015-07-07</td>\n",
       "      <td>[{'id': 1, 'name': 'Racing', 'slug': 'racing'}...</td>\n",
       "      <td>12769</td>\n",
       "      <td>21</td>\n",
       "    </tr>\n",
       "    <tr>\n",
       "      <th>4</th>\n",
       "      <td>Rise of the Tomb Raider</td>\n",
       "      <td>2015-11-10</td>\n",
       "      <td>[{'id': 4, 'name': 'Action', 'slug': 'action'}]</td>\n",
       "      <td>12212</td>\n",
       "      <td>14</td>\n",
       "    </tr>\n",
       "    <tr>\n",
       "      <th>...</th>\n",
       "      <td>...</td>\n",
       "      <td>...</td>\n",
       "      <td>...</td>\n",
       "      <td>...</td>\n",
       "      <td>...</td>\n",
       "    </tr>\n",
       "    <tr>\n",
       "      <th>1995</th>\n",
       "      <td>Dark Hours: Prologue</td>\n",
       "      <td>2024-07-18</td>\n",
       "      <td>[{'id': 3, 'name': 'Adventure', 'slug': 'adven...</td>\n",
       "      <td>67</td>\n",
       "      <td>2</td>\n",
       "    </tr>\n",
       "    <tr>\n",
       "      <th>1996</th>\n",
       "      <td>Age of Water: The First Voyage</td>\n",
       "      <td>2024-03-21</td>\n",
       "      <td>[{'id': 59, 'name': 'Massively Multiplayer', '...</td>\n",
       "      <td>66</td>\n",
       "      <td>1</td>\n",
       "    </tr>\n",
       "    <tr>\n",
       "      <th>1997</th>\n",
       "      <td>Legacy of Kain™ Soul Reaver 1&amp;2 Remastered</td>\n",
       "      <td>2024-12-10</td>\n",
       "      <td>[{'id': 83, 'name': 'Platformer', 'slug': 'pla...</td>\n",
       "      <td>66</td>\n",
       "      <td>0</td>\n",
       "    </tr>\n",
       "    <tr>\n",
       "      <th>1998</th>\n",
       "      <td>SOUTH PARK: SNOW DAY!</td>\n",
       "      <td>2024-03-25</td>\n",
       "      <td>[{'id': 3, 'name': 'Adventure', 'slug': 'adven...</td>\n",
       "      <td>65</td>\n",
       "      <td>4</td>\n",
       "    </tr>\n",
       "    <tr>\n",
       "      <th>1999</th>\n",
       "      <td>Outcast 2 — A New Beginning</td>\n",
       "      <td>2024-03-15</td>\n",
       "      <td>[{'id': 3, 'name': 'Adventure', 'slug': 'adven...</td>\n",
       "      <td>63</td>\n",
       "      <td>0</td>\n",
       "    </tr>\n",
       "  </tbody>\n",
       "</table>\n",
       "<p>2000 rows × 5 columns</p>\n",
       "</div>"
      ],
      "text/plain": [
       "                                            name    released  \\\n",
       "0                       The Witcher 3: Wild Hunt  2015-05-18   \n",
       "1                                Life is Strange  2015-01-29   \n",
       "2                                      Fallout 4  2015-11-09   \n",
       "3                                  Rocket League  2015-07-07   \n",
       "4                        Rise of the Tomb Raider  2015-11-10   \n",
       "...                                          ...         ...   \n",
       "1995                        Dark Hours: Prologue  2024-07-18   \n",
       "1996              Age of Water: The First Voyage  2024-03-21   \n",
       "1997  Legacy of Kain™ Soul Reaver 1&2 Remastered  2024-12-10   \n",
       "1998                       SOUTH PARK: SNOW DAY!  2024-03-25   \n",
       "1999                 Outcast 2 — A New Beginning  2024-03-15   \n",
       "\n",
       "                                                 genres  added  playtime  \n",
       "0     [{'id': 4, 'name': 'Action', 'slug': 'action'}...  21662        43  \n",
       "1     [{'id': 3, 'name': 'Adventure', 'slug': 'adven...  15758         6  \n",
       "2     [{'id': 4, 'name': 'Action', 'slug': 'action'}...  14082        38  \n",
       "3     [{'id': 1, 'name': 'Racing', 'slug': 'racing'}...  12769        21  \n",
       "4       [{'id': 4, 'name': 'Action', 'slug': 'action'}]  12212        14  \n",
       "...                                                 ...    ...       ...  \n",
       "1995  [{'id': 3, 'name': 'Adventure', 'slug': 'adven...     67         2  \n",
       "1996  [{'id': 59, 'name': 'Massively Multiplayer', '...     66         1  \n",
       "1997  [{'id': 83, 'name': 'Platformer', 'slug': 'pla...     66         0  \n",
       "1998  [{'id': 3, 'name': 'Adventure', 'slug': 'adven...     65         4  \n",
       "1999  [{'id': 3, 'name': 'Adventure', 'slug': 'adven...     63         0  \n",
       "\n",
       "[2000 rows x 5 columns]"
      ]
     },
     "execution_count": 84,
     "metadata": {},
     "output_type": "execute_result"
    }
   ],
   "source": [
    "#Sobrescribimos/transformamos el dataframe de manera que nos muestre las columnas 'name', 'released' y 'genres'. \n",
    "df = df[['name', 'released', 'genres', 'added', 'playtime']].dropna()\n",
    "df"
   ]
  },
  {
   "cell_type": "markdown",
   "id": "21c98658-5057-4833-98c1-3dae52256407",
   "metadata": {},
   "source": [
    "- Vamos a añadir la columna 'año' al dataframe, ya que lo necesitaremos más adelante a la hora de filtrar."
   ]
  },
  {
   "cell_type": "code",
   "execution_count": 86,
   "id": "52039a6d-8259-4cdb-9f0c-abd45570eac7",
   "metadata": {},
   "outputs": [],
   "source": [
    "#Creamos la columna 'año', que obtendrá el valor del año de la columna 'released' que tiene formato datetime.\n",
    "df['año'] = pd.to_datetime(df['released'], errors='coerce').dt.year\n",
    "df = df.dropna(subset=['año'])\n",
    "df['año'] = df['año'].astype(int)"
   ]
  },
  {
   "cell_type": "code",
   "execution_count": 88,
   "id": "83338f19-e81e-4853-8aef-4dccc926283e",
   "metadata": {
    "scrolled": true
   },
   "outputs": [
    {
     "data": {
      "text/html": [
       "<div>\n",
       "<style scoped>\n",
       "    .dataframe tbody tr th:only-of-type {\n",
       "        vertical-align: middle;\n",
       "    }\n",
       "\n",
       "    .dataframe tbody tr th {\n",
       "        vertical-align: top;\n",
       "    }\n",
       "\n",
       "    .dataframe thead th {\n",
       "        text-align: right;\n",
       "    }\n",
       "</style>\n",
       "<table border=\"1\" class=\"dataframe\">\n",
       "  <thead>\n",
       "    <tr style=\"text-align: right;\">\n",
       "      <th></th>\n",
       "      <th>name</th>\n",
       "      <th>released</th>\n",
       "      <th>genres</th>\n",
       "      <th>added</th>\n",
       "      <th>playtime</th>\n",
       "      <th>año</th>\n",
       "    </tr>\n",
       "  </thead>\n",
       "  <tbody>\n",
       "    <tr>\n",
       "      <th>0</th>\n",
       "      <td>The Witcher 3: Wild Hunt</td>\n",
       "      <td>2015-05-18</td>\n",
       "      <td>[{'id': 4, 'name': 'Action', 'slug': 'action'}...</td>\n",
       "      <td>21662</td>\n",
       "      <td>43</td>\n",
       "      <td>2015</td>\n",
       "    </tr>\n",
       "    <tr>\n",
       "      <th>1</th>\n",
       "      <td>Life is Strange</td>\n",
       "      <td>2015-01-29</td>\n",
       "      <td>[{'id': 3, 'name': 'Adventure', 'slug': 'adven...</td>\n",
       "      <td>15758</td>\n",
       "      <td>6</td>\n",
       "      <td>2015</td>\n",
       "    </tr>\n",
       "    <tr>\n",
       "      <th>2</th>\n",
       "      <td>Fallout 4</td>\n",
       "      <td>2015-11-09</td>\n",
       "      <td>[{'id': 4, 'name': 'Action', 'slug': 'action'}...</td>\n",
       "      <td>14082</td>\n",
       "      <td>38</td>\n",
       "      <td>2015</td>\n",
       "    </tr>\n",
       "    <tr>\n",
       "      <th>3</th>\n",
       "      <td>Rocket League</td>\n",
       "      <td>2015-07-07</td>\n",
       "      <td>[{'id': 1, 'name': 'Racing', 'slug': 'racing'}...</td>\n",
       "      <td>12769</td>\n",
       "      <td>21</td>\n",
       "      <td>2015</td>\n",
       "    </tr>\n",
       "    <tr>\n",
       "      <th>4</th>\n",
       "      <td>Rise of the Tomb Raider</td>\n",
       "      <td>2015-11-10</td>\n",
       "      <td>[{'id': 4, 'name': 'Action', 'slug': 'action'}]</td>\n",
       "      <td>12212</td>\n",
       "      <td>14</td>\n",
       "      <td>2015</td>\n",
       "    </tr>\n",
       "    <tr>\n",
       "      <th>...</th>\n",
       "      <td>...</td>\n",
       "      <td>...</td>\n",
       "      <td>...</td>\n",
       "      <td>...</td>\n",
       "      <td>...</td>\n",
       "      <td>...</td>\n",
       "    </tr>\n",
       "    <tr>\n",
       "      <th>1995</th>\n",
       "      <td>Dark Hours: Prologue</td>\n",
       "      <td>2024-07-18</td>\n",
       "      <td>[{'id': 3, 'name': 'Adventure', 'slug': 'adven...</td>\n",
       "      <td>67</td>\n",
       "      <td>2</td>\n",
       "      <td>2024</td>\n",
       "    </tr>\n",
       "    <tr>\n",
       "      <th>1996</th>\n",
       "      <td>Age of Water: The First Voyage</td>\n",
       "      <td>2024-03-21</td>\n",
       "      <td>[{'id': 59, 'name': 'Massively Multiplayer', '...</td>\n",
       "      <td>66</td>\n",
       "      <td>1</td>\n",
       "      <td>2024</td>\n",
       "    </tr>\n",
       "    <tr>\n",
       "      <th>1997</th>\n",
       "      <td>Legacy of Kain™ Soul Reaver 1&amp;2 Remastered</td>\n",
       "      <td>2024-12-10</td>\n",
       "      <td>[{'id': 83, 'name': 'Platformer', 'slug': 'pla...</td>\n",
       "      <td>66</td>\n",
       "      <td>0</td>\n",
       "      <td>2024</td>\n",
       "    </tr>\n",
       "    <tr>\n",
       "      <th>1998</th>\n",
       "      <td>SOUTH PARK: SNOW DAY!</td>\n",
       "      <td>2024-03-25</td>\n",
       "      <td>[{'id': 3, 'name': 'Adventure', 'slug': 'adven...</td>\n",
       "      <td>65</td>\n",
       "      <td>4</td>\n",
       "      <td>2024</td>\n",
       "    </tr>\n",
       "    <tr>\n",
       "      <th>1999</th>\n",
       "      <td>Outcast 2 — A New Beginning</td>\n",
       "      <td>2024-03-15</td>\n",
       "      <td>[{'id': 3, 'name': 'Adventure', 'slug': 'adven...</td>\n",
       "      <td>63</td>\n",
       "      <td>0</td>\n",
       "      <td>2024</td>\n",
       "    </tr>\n",
       "  </tbody>\n",
       "</table>\n",
       "<p>2000 rows × 6 columns</p>\n",
       "</div>"
      ],
      "text/plain": [
       "                                            name    released  \\\n",
       "0                       The Witcher 3: Wild Hunt  2015-05-18   \n",
       "1                                Life is Strange  2015-01-29   \n",
       "2                                      Fallout 4  2015-11-09   \n",
       "3                                  Rocket League  2015-07-07   \n",
       "4                        Rise of the Tomb Raider  2015-11-10   \n",
       "...                                          ...         ...   \n",
       "1995                        Dark Hours: Prologue  2024-07-18   \n",
       "1996              Age of Water: The First Voyage  2024-03-21   \n",
       "1997  Legacy of Kain™ Soul Reaver 1&2 Remastered  2024-12-10   \n",
       "1998                       SOUTH PARK: SNOW DAY!  2024-03-25   \n",
       "1999                 Outcast 2 — A New Beginning  2024-03-15   \n",
       "\n",
       "                                                 genres  added  playtime   año  \n",
       "0     [{'id': 4, 'name': 'Action', 'slug': 'action'}...  21662        43  2015  \n",
       "1     [{'id': 3, 'name': 'Adventure', 'slug': 'adven...  15758         6  2015  \n",
       "2     [{'id': 4, 'name': 'Action', 'slug': 'action'}...  14082        38  2015  \n",
       "3     [{'id': 1, 'name': 'Racing', 'slug': 'racing'}...  12769        21  2015  \n",
       "4       [{'id': 4, 'name': 'Action', 'slug': 'action'}]  12212        14  2015  \n",
       "...                                                 ...    ...       ...   ...  \n",
       "1995  [{'id': 3, 'name': 'Adventure', 'slug': 'adven...     67         2  2024  \n",
       "1996  [{'id': 59, 'name': 'Massively Multiplayer', '...     66         1  2024  \n",
       "1997  [{'id': 83, 'name': 'Platformer', 'slug': 'pla...     66         0  2024  \n",
       "1998  [{'id': 3, 'name': 'Adventure', 'slug': 'adven...     65         4  2024  \n",
       "1999  [{'id': 3, 'name': 'Adventure', 'slug': 'adven...     63         0  2024  \n",
       "\n",
       "[2000 rows x 6 columns]"
      ]
     },
     "execution_count": 88,
     "metadata": {},
     "output_type": "execute_result"
    }
   ],
   "source": [
    "df"
   ]
  },
  {
   "cell_type": "markdown",
   "id": "78e6e88a-1fb5-409a-9a56-2b60f8ffb0d1",
   "metadata": {},
   "source": [
    "- A continuación hemos extraido el género principal de cada juego en una nueva columna llamada 'genero', lo haremos de esta forma porque muchos juegos tienen varios generos, nosotros necesitamos utilizar el género principal por cada juego, sin eliminar la columna 'genres' ya que la necesitaremos para extraer datos mas adelante."
   ]
  },
  {
   "cell_type": "code",
   "execution_count": 91,
   "id": "1c079bcf-b179-4b06-9fd1-ca41eb2be90a",
   "metadata": {},
   "outputs": [
    {
     "data": {
      "text/html": [
       "<div>\n",
       "<style scoped>\n",
       "    .dataframe tbody tr th:only-of-type {\n",
       "        vertical-align: middle;\n",
       "    }\n",
       "\n",
       "    .dataframe tbody tr th {\n",
       "        vertical-align: top;\n",
       "    }\n",
       "\n",
       "    .dataframe thead th {\n",
       "        text-align: right;\n",
       "    }\n",
       "</style>\n",
       "<table border=\"1\" class=\"dataframe\">\n",
       "  <thead>\n",
       "    <tr style=\"text-align: right;\">\n",
       "      <th></th>\n",
       "      <th>name</th>\n",
       "      <th>released</th>\n",
       "      <th>genres</th>\n",
       "      <th>added</th>\n",
       "      <th>playtime</th>\n",
       "      <th>año</th>\n",
       "      <th>genero</th>\n",
       "    </tr>\n",
       "  </thead>\n",
       "  <tbody>\n",
       "    <tr>\n",
       "      <th>0</th>\n",
       "      <td>The Witcher 3: Wild Hunt</td>\n",
       "      <td>2015-05-18</td>\n",
       "      <td>[{'id': 4, 'name': 'Action', 'slug': 'action'}...</td>\n",
       "      <td>21662</td>\n",
       "      <td>43</td>\n",
       "      <td>2015</td>\n",
       "      <td>Action</td>\n",
       "    </tr>\n",
       "    <tr>\n",
       "      <th>0</th>\n",
       "      <td>The Witcher 3: Wild Hunt</td>\n",
       "      <td>2015-05-18</td>\n",
       "      <td>[{'id': 4, 'name': 'Action', 'slug': 'action'}...</td>\n",
       "      <td>21662</td>\n",
       "      <td>43</td>\n",
       "      <td>2015</td>\n",
       "      <td>RPG</td>\n",
       "    </tr>\n",
       "    <tr>\n",
       "      <th>1</th>\n",
       "      <td>Life is Strange</td>\n",
       "      <td>2015-01-29</td>\n",
       "      <td>[{'id': 3, 'name': 'Adventure', 'slug': 'adven...</td>\n",
       "      <td>15758</td>\n",
       "      <td>6</td>\n",
       "      <td>2015</td>\n",
       "      <td>Adventure</td>\n",
       "    </tr>\n",
       "    <tr>\n",
       "      <th>2</th>\n",
       "      <td>Fallout 4</td>\n",
       "      <td>2015-11-09</td>\n",
       "      <td>[{'id': 4, 'name': 'Action', 'slug': 'action'}...</td>\n",
       "      <td>14082</td>\n",
       "      <td>38</td>\n",
       "      <td>2015</td>\n",
       "      <td>Action</td>\n",
       "    </tr>\n",
       "    <tr>\n",
       "      <th>2</th>\n",
       "      <td>Fallout 4</td>\n",
       "      <td>2015-11-09</td>\n",
       "      <td>[{'id': 4, 'name': 'Action', 'slug': 'action'}...</td>\n",
       "      <td>14082</td>\n",
       "      <td>38</td>\n",
       "      <td>2015</td>\n",
       "      <td>RPG</td>\n",
       "    </tr>\n",
       "    <tr>\n",
       "      <th>...</th>\n",
       "      <td>...</td>\n",
       "      <td>...</td>\n",
       "      <td>...</td>\n",
       "      <td>...</td>\n",
       "      <td>...</td>\n",
       "      <td>...</td>\n",
       "      <td>...</td>\n",
       "    </tr>\n",
       "    <tr>\n",
       "      <th>1997</th>\n",
       "      <td>Legacy of Kain™ Soul Reaver 1&amp;2 Remastered</td>\n",
       "      <td>2024-12-10</td>\n",
       "      <td>[{'id': 83, 'name': 'Platformer', 'slug': 'pla...</td>\n",
       "      <td>66</td>\n",
       "      <td>0</td>\n",
       "      <td>2024</td>\n",
       "      <td>Puzzle</td>\n",
       "    </tr>\n",
       "    <tr>\n",
       "      <th>1998</th>\n",
       "      <td>SOUTH PARK: SNOW DAY!</td>\n",
       "      <td>2024-03-25</td>\n",
       "      <td>[{'id': 3, 'name': 'Adventure', 'slug': 'adven...</td>\n",
       "      <td>65</td>\n",
       "      <td>4</td>\n",
       "      <td>2024</td>\n",
       "      <td>Adventure</td>\n",
       "    </tr>\n",
       "    <tr>\n",
       "      <th>1998</th>\n",
       "      <td>SOUTH PARK: SNOW DAY!</td>\n",
       "      <td>2024-03-25</td>\n",
       "      <td>[{'id': 3, 'name': 'Adventure', 'slug': 'adven...</td>\n",
       "      <td>65</td>\n",
       "      <td>4</td>\n",
       "      <td>2024</td>\n",
       "      <td>Action</td>\n",
       "    </tr>\n",
       "    <tr>\n",
       "      <th>1999</th>\n",
       "      <td>Outcast 2 — A New Beginning</td>\n",
       "      <td>2024-03-15</td>\n",
       "      <td>[{'id': 3, 'name': 'Adventure', 'slug': 'adven...</td>\n",
       "      <td>63</td>\n",
       "      <td>0</td>\n",
       "      <td>2024</td>\n",
       "      <td>Adventure</td>\n",
       "    </tr>\n",
       "    <tr>\n",
       "      <th>1999</th>\n",
       "      <td>Outcast 2 — A New Beginning</td>\n",
       "      <td>2024-03-15</td>\n",
       "      <td>[{'id': 3, 'name': 'Adventure', 'slug': 'adven...</td>\n",
       "      <td>63</td>\n",
       "      <td>0</td>\n",
       "      <td>2024</td>\n",
       "      <td>Action</td>\n",
       "    </tr>\n",
       "  </tbody>\n",
       "</table>\n",
       "<p>5561 rows × 7 columns</p>\n",
       "</div>"
      ],
      "text/plain": [
       "                                            name    released  \\\n",
       "0                       The Witcher 3: Wild Hunt  2015-05-18   \n",
       "0                       The Witcher 3: Wild Hunt  2015-05-18   \n",
       "1                                Life is Strange  2015-01-29   \n",
       "2                                      Fallout 4  2015-11-09   \n",
       "2                                      Fallout 4  2015-11-09   \n",
       "...                                          ...         ...   \n",
       "1997  Legacy of Kain™ Soul Reaver 1&2 Remastered  2024-12-10   \n",
       "1998                       SOUTH PARK: SNOW DAY!  2024-03-25   \n",
       "1998                       SOUTH PARK: SNOW DAY!  2024-03-25   \n",
       "1999                 Outcast 2 — A New Beginning  2024-03-15   \n",
       "1999                 Outcast 2 — A New Beginning  2024-03-15   \n",
       "\n",
       "                                                 genres  added  playtime  \\\n",
       "0     [{'id': 4, 'name': 'Action', 'slug': 'action'}...  21662        43   \n",
       "0     [{'id': 4, 'name': 'Action', 'slug': 'action'}...  21662        43   \n",
       "1     [{'id': 3, 'name': 'Adventure', 'slug': 'adven...  15758         6   \n",
       "2     [{'id': 4, 'name': 'Action', 'slug': 'action'}...  14082        38   \n",
       "2     [{'id': 4, 'name': 'Action', 'slug': 'action'}...  14082        38   \n",
       "...                                                 ...    ...       ...   \n",
       "1997  [{'id': 83, 'name': 'Platformer', 'slug': 'pla...     66         0   \n",
       "1998  [{'id': 3, 'name': 'Adventure', 'slug': 'adven...     65         4   \n",
       "1998  [{'id': 3, 'name': 'Adventure', 'slug': 'adven...     65         4   \n",
       "1999  [{'id': 3, 'name': 'Adventure', 'slug': 'adven...     63         0   \n",
       "1999  [{'id': 3, 'name': 'Adventure', 'slug': 'adven...     63         0   \n",
       "\n",
       "       año     genero  \n",
       "0     2015     Action  \n",
       "0     2015        RPG  \n",
       "1     2015  Adventure  \n",
       "2     2015     Action  \n",
       "2     2015        RPG  \n",
       "...    ...        ...  \n",
       "1997  2024     Puzzle  \n",
       "1998  2024  Adventure  \n",
       "1998  2024     Action  \n",
       "1999  2024  Adventure  \n",
       "1999  2024     Action  \n",
       "\n",
       "[5561 rows x 7 columns]"
      ]
     },
     "execution_count": 91,
     "metadata": {},
     "output_type": "execute_result"
    }
   ],
   "source": [
    "#Creamos la columna 'genero' que extrae el genero que vamos a usar como principal para cada juego mediante un 'df.explode'.\n",
    "df['generos'] = df['genres'].apply(lambda x: [g['name'] for g in x])\n",
    "df_exploded = df.explode('generos')\n",
    "df_exploded = df_exploded.rename(columns={'generos': 'genero'})\n",
    "#El dataframe se renombra a 'df_exploded' para trabajar con el manteniendo el dataframe original para evitar fugas de datos.\n",
    "df_exploded"
   ]
  },
  {
   "cell_type": "markdown",
   "id": "e689761f-8e62-4b50-997c-b03fa2bc8454",
   "metadata": {},
   "source": [
    "- Vamos a almacenar los 10 años en 2 rangos de 5 años cada uno, para trabajar con ellos."
   ]
  },
  {
   "cell_type": "code",
   "execution_count": 94,
   "id": "f53ad6a1-d87c-41ee-b031-42684282d458",
   "metadata": {},
   "outputs": [],
   "source": [
    "df_exploded['rango'] = pd.cut(\n",
    "    df_exploded['año'],\n",
    "    bins=[2014, 2019, 2024],\n",
    "    labels=['2015-2019', '2020-2024']\n",
    ")"
   ]
  },
  {
   "cell_type": "markdown",
   "id": "5705d232-e05d-4274-bcc0-5c90a7d0fbdc",
   "metadata": {},
   "source": [
    "- Vamos a hacer un top 10 de popularidad, utilizando las columnas 'added' y 'playtime', cada una será almacenada en variables diferentes para obtener diferentes gráficas más adelante y poder ver los datos desde dos perspectivas diferentes. Serán en rangos de 5 años cada una."
   ]
  },
  {
   "cell_type": "code",
   "execution_count": 97,
   "id": "e566fb05-eb4b-4468-a78c-5bcce2b9de4d",
   "metadata": {
    "scrolled": true
   },
   "outputs": [],
   "source": [
    "#Agrupamos por rango y género y sumamos los 'added' y los 'playtime' en dos variables diferentes.\n",
    "popularidad_por_rango = (\n",
    "    df_exploded.groupby(['rango', 'genero'], observed=False)['added']\n",
    "    .sum()\n",
    "    .reset_index(name='popularidad')\n",
    ")\n",
    "playtime_por_rango = (\n",
    "    df_exploded.groupby(['rango', 'genero'], observed=False)['playtime']\n",
    "    .sum()\n",
    "    .reset_index(name='tiempo_jugado')\n",
    ")\n",
    "#Sacamos los top 10 por rango, en sus respectibas variable, para 'added' y para 'playtime'\n",
    "top10_added_por_rango = (\n",
    "    popularidad_por_rango\n",
    "    .sort_values(['rango', 'popularidad'], ascending=[True, False])\n",
    "    .groupby('rango', observed=False)\n",
    "    .head(10)\n",
    "    .reset_index(drop=True)\n",
    ")\n",
    "top10_playtime_por_rango = (\n",
    "    playtime_por_rango\n",
    "    .sort_values(['rango', 'tiempo_jugado'], ascending=[True, False])\n",
    "    .groupby('rango', observed=False)\n",
    "    .head(10)\n",
    "    .reset_index(drop=True)\n",
    ")"
   ]
  },
  {
   "cell_type": "markdown",
   "id": "be222f11-4917-4fd5-aea5-607dab991da0",
   "metadata": {},
   "source": [
    "- Por último vamos a crear un top 10 para ver los generos más jugados a través de todo el rango de años con los que estamos trabajando para ver los datos de una forma más global. Haremos un top global por la columna 'added' y otro para la columna 'playtime'."
   ]
  },
  {
   "cell_type": "code",
   "execution_count": 100,
   "id": "dba2793e-6d11-4770-be10-c91e33be105d",
   "metadata": {},
   "outputs": [
    {
     "name": "stdout",
     "output_type": "stream",
     "text": [
      "        genero  popularidad\n",
      "0       Action      2623473\n",
      "1    Adventure      1686239\n",
      "9        Indie      1598037\n",
      "13         RPG      1114455\n",
      "15     Shooter       637129\n",
      "18    Strategy       600246\n",
      "16  Simulation       561635\n",
      "5       Casual       378140\n",
      "11  Platformer       235237\n",
      "12      Puzzle       226510\n",
      "                   genero  tiempo_jugado\n",
      "0                  Action           6154\n",
      "1               Adventure           4670\n",
      "9                   Indie           3379\n",
      "13                    RPG           3317\n",
      "18               Strategy           1603\n",
      "16             Simulation           1429\n",
      "15                Shooter           1149\n",
      "5                  Casual            897\n",
      "10  Massively Multiplayer            434\n",
      "12                 Puzzle            422\n"
     ]
    }
   ],
   "source": [
    "#Utilizamos el conteo anterior para almacenar los 10 generos más populares de todos los años de nuestro dataframe.\n",
    "#Será el top 10 global, por lo que lo almacenamos en la variable 'top10_global'.\n",
    "top10_added_global = (\n",
    "    df_exploded.groupby('genero')['added']\n",
    "    .sum()\n",
    "    .reset_index(name='popularidad')\n",
    "    .sort_values('popularidad', ascending=False)\n",
    "    .head(10)\n",
    ")\n",
    "top10_playtime_global = (\n",
    "    df_exploded.groupby('genero')['playtime']\n",
    "    .sum()\n",
    "    .reset_index(name='tiempo_jugado')\n",
    "    .sort_values('tiempo_jugado', ascending=False)\n",
    "    .head(10)\n",
    ")\n",
    "print(top10_added_global)\n",
    "print(top10_playtime_global)"
   ]
  },
  {
   "cell_type": "code",
   "execution_count": 143,
   "id": "22bebfcc-da2f-4907-a771-39f1bcc79b48",
   "metadata": {},
   "outputs": [],
   "source": [
    "#Guardamos los datos ya procesados en un archivo CSV\n",
    "df.to_csv(\"../../data/processed/popularidad_generos.csv\", index=False)"
   ]
  },
  {
   "cell_type": "markdown",
   "id": "f8746e4e-77aa-4d88-aee9-9264dcd5ae91",
   "metadata": {},
   "source": [
    "## Visualización de los datos"
   ]
  },
  {
   "cell_type": "markdown",
   "id": "ed2622d3-08ab-4872-806d-3d42775e7bd5",
   "metadata": {},
   "source": [
    "A continuación queremos mostrar los datos que hemos extraido y filtrado anteriormente.\n",
    "\n",
    "- Primero vamos a mostrar el top 5 de cada año."
   ]
  },
  {
   "cell_type": "code",
   "execution_count": 104,
   "id": "711f44ad-f0d6-4056-b593-006abd63183c",
   "metadata": {},
   "outputs": [
    {
     "data": {
      "text/plain": [
       "Index(['name', 'released', 'genres', 'added', 'playtime', 'año', 'generos'], dtype='object')"
      ]
     },
     "execution_count": 104,
     "metadata": {},
     "output_type": "execute_result"
    }
   ],
   "source": [
    "df.columns"
   ]
  },
  {
   "cell_type": "code",
   "execution_count": 106,
   "id": "7fcd81ab-30e0-4da1-9ca1-4ed35b845d52",
   "metadata": {},
   "outputs": [],
   "source": [
    "#Vamos a aplicar un estilo de gráfico para utilizar en todos los gráficos.\n",
    "sns.set_style(\"whitegrid\")\n",
    "sns.set_palette(\"deep\")"
   ]
  },
  {
   "cell_type": "markdown",
   "id": "86ebf804-20d3-4571-ad28-411a6512453e",
   "metadata": {},
   "source": [
    "## Años 2015 a 2019"
   ]
  },
  {
   "cell_type": "code",
   "execution_count": 109,
   "id": "fd60f209-3994-4da4-a973-ee45bebf7d3a",
   "metadata": {},
   "outputs": [],
   "source": [
    "#Filtramos los datos del rango 2015 a 2024\n",
    "df_2015_2019 = df[(df['año'] >= 2015) & (df['año'] <= 2019)]"
   ]
  },
  {
   "cell_type": "markdown",
   "id": "2a155360-f088-49b8-8fb6-b044b1921992",
   "metadata": {},
   "source": [
    "### Gráfico de popularidad en base a \"added\""
   ]
  },
  {
   "cell_type": "code",
   "execution_count": 112,
   "id": "59335751-e270-469a-bfb8-bed0defc285e",
   "metadata": {},
   "outputs": [
    {
     "data": {
      "image/png": "[encoded data removed]",
      "text/plain": [
       "<Figure size 1000x600 with 1 Axes>"
      ]
     },
     "metadata": {},
     "output_type": "display_data"
    },
    {
     "data": {
      "text/html": [
       "<style type=\"text/css\">\n",
       "</style>\n",
       "<table id=\"T_12608\">\n",
       "  <thead>\n",
       "    <tr>\n",
       "      <th id=\"T_12608_level0_col0\" class=\"col_heading level0 col0\" >added</th>\n",
       "      <th id=\"T_12608_level0_col1\" class=\"col_heading level0 col1\" >playtime</th>\n",
       "    </tr>\n",
       "  </thead>\n",
       "  <tbody>\n",
       "    <tr>\n",
       "      <td id=\"T_12608_row0_col0\" class=\"data row0 col0\" >1.00</td>\n",
       "      <td id=\"T_12608_row0_col1\" class=\"data row0 col1\" >0.40</td>\n",
       "    </tr>\n",
       "    <tr>\n",
       "      <td id=\"T_12608_row1_col0\" class=\"data row1 col0\" >0.40</td>\n",
       "      <td id=\"T_12608_row1_col1\" class=\"data row1 col1\" >1.00</td>\n",
       "    </tr>\n",
       "  </tbody>\n",
       "</table>\n"
      ],
      "text/plain": [
       "<pandas.io.formats.style.Styler at 0x18bdf8cf1a0>"
      ]
     },
     "execution_count": 112,
     "metadata": {},
     "output_type": "execute_result"
    }
   ],
   "source": [
    "df_rango1 = top10_added_por_rango[top10_added_por_rango['rango'] == '2015-2019']\n",
    "\n",
    "plt.figure(figsize=(10, 6))\n",
    "sns.barplot(data=df_rango1, x='popularidad', y='genero', hue='genero', palette='Set2')\n",
    "plt.title('Top 10 géneros por \"added\" (2015–2019)')\n",
    "plt.xlabel('Total añadidos')\n",
    "plt.ylabel('Género')\n",
    "plt.tight_layout()\n",
    "plt.show()\n",
    "\n",
    "correlacion = df_2015_2019[['added', 'playtime']].corr(method='pearson')\n",
    "correlacion.style.hide(axis=\"index\").format(\"{:.2f}\")"
   ]
  },
  {
   "cell_type": "markdown",
   "id": "a35bb09e-b5b4-4d6f-8f0e-d127a9cd8a5a",
   "metadata": {},
   "source": [
    "### Gráfico de popularidad en base a \"playtime\""
   ]
  },
  {
   "cell_type": "code",
   "execution_count": 115,
   "id": "01f4c1f5-930c-4442-84c1-da0e146baee3",
   "metadata": {},
   "outputs": [
    {
     "data": {
      "image/png": "[encoded data removed]",
      "text/plain": [
       "<Figure size 1000x600 with 1 Axes>"
      ]
     },
     "metadata": {},
     "output_type": "display_data"
    },
    {
     "data": {
      "text/html": [
       "<style type=\"text/css\">\n",
       "</style>\n",
       "<table id=\"T_6dd6a\">\n",
       "  <thead>\n",
       "    <tr>\n",
       "      <th id=\"T_6dd6a_level0_col0\" class=\"col_heading level0 col0\" >added</th>\n",
       "      <th id=\"T_6dd6a_level0_col1\" class=\"col_heading level0 col1\" >playtime</th>\n",
       "    </tr>\n",
       "  </thead>\n",
       "  <tbody>\n",
       "    <tr>\n",
       "      <td id=\"T_6dd6a_row0_col0\" class=\"data row0 col0\" >1.00</td>\n",
       "      <td id=\"T_6dd6a_row0_col1\" class=\"data row0 col1\" >0.40</td>\n",
       "    </tr>\n",
       "    <tr>\n",
       "      <td id=\"T_6dd6a_row1_col0\" class=\"data row1 col0\" >0.40</td>\n",
       "      <td id=\"T_6dd6a_row1_col1\" class=\"data row1 col1\" >1.00</td>\n",
       "    </tr>\n",
       "  </tbody>\n",
       "</table>\n"
      ],
      "text/plain": [
       "<pandas.io.formats.style.Styler at 0x18bdc4d3b30>"
      ]
     },
     "execution_count": 115,
     "metadata": {},
     "output_type": "execute_result"
    }
   ],
   "source": [
    "df_playtime1 = top10_playtime_por_rango[top10_playtime_por_rango['rango'] == '2015-2019']\n",
    "\n",
    "plt.figure(figsize=(10, 6))\n",
    "sns.barplot(data=df_playtime1, x='tiempo_jugado', y='genero', hue='genero', palette='coolwarm')\n",
    "plt.title('Top 10 géneros por \"playtime\" (2015–2019)')\n",
    "plt.xlabel('Total horas de juego')\n",
    "plt.ylabel('Género')\n",
    "plt.tight_layout()\n",
    "plt.show()\n",
    "\n",
    "correlacion = df_2015_2019[['added', 'playtime']].corr(method='pearson')\n",
    "correlacion.style.hide(axis=\"index\").format(\"{:.2f}\")"
   ]
  },
  {
   "cell_type": "markdown",
   "id": "dfaa97bf-d314-4964-859e-900eb96dfd2c",
   "metadata": {},
   "source": [
    "## Años 2019 a 2024"
   ]
  },
  {
   "cell_type": "code",
   "execution_count": 118,
   "id": "587d0b20-2466-421b-947b-35efb204005d",
   "metadata": {},
   "outputs": [],
   "source": [
    "#Filtramos los datos del rango 2019 a 2024\n",
    "df_2019_2024 = df[(df['año'] >= 2019) & (df['año'] <= 2024)]"
   ]
  },
  {
   "cell_type": "markdown",
   "id": "0a9ff651-405e-4c05-ab39-0394e9719e3f",
   "metadata": {},
   "source": [
    "### Gráfico de popularidad en base a \"added\""
   ]
  },
  {
   "cell_type": "code",
   "execution_count": 121,
   "id": "36a51360-8202-4b42-99bd-f4dec6667528",
   "metadata": {},
   "outputs": [
    {
     "data": {
      "image/png": "[encoded data removed]",
      "text/plain": [
       "<Figure size 1000x600 with 1 Axes>"
      ]
     },
     "metadata": {},
     "output_type": "display_data"
    },
    {
     "data": {
      "text/html": [
       "<style type=\"text/css\">\n",
       "</style>\n",
       "<table id=\"T_19a4d\">\n",
       "  <thead>\n",
       "    <tr>\n",
       "      <th id=\"T_19a4d_level0_col0\" class=\"col_heading level0 col0\" >added</th>\n",
       "      <th id=\"T_19a4d_level0_col1\" class=\"col_heading level0 col1\" >playtime</th>\n",
       "    </tr>\n",
       "  </thead>\n",
       "  <tbody>\n",
       "    <tr>\n",
       "      <td id=\"T_19a4d_row0_col0\" class=\"data row0 col0\" >1.00</td>\n",
       "      <td id=\"T_19a4d_row0_col1\" class=\"data row0 col1\" >0.23</td>\n",
       "    </tr>\n",
       "    <tr>\n",
       "      <td id=\"T_19a4d_row1_col0\" class=\"data row1 col0\" >0.23</td>\n",
       "      <td id=\"T_19a4d_row1_col1\" class=\"data row1 col1\" >1.00</td>\n",
       "    </tr>\n",
       "  </tbody>\n",
       "</table>\n"
      ],
      "text/plain": [
       "<pandas.io.formats.style.Styler at 0x18be6959910>"
      ]
     },
     "execution_count": 121,
     "metadata": {},
     "output_type": "execute_result"
    }
   ],
   "source": [
    "df_rango2 = top10_added_por_rango[top10_added_por_rango['rango'] == '2020-2024']\n",
    "\n",
    "plt.figure(figsize=(10, 6))\n",
    "sns.barplot(data=df_rango2, x='popularidad', y='genero', hue='genero', palette='Set3')\n",
    "plt.title('Top 10 géneros por \"added\" (2020–2024)')\n",
    "plt.xlabel('Total añadidos')\n",
    "plt.ylabel('Género')\n",
    "plt.tight_layout()\n",
    "plt.show()\n",
    "\n",
    "correlacion = df_2019_2024[['added', 'playtime']].corr(method='pearson')\n",
    "correlacion.style.hide(axis=\"index\").format(\"{:.2f}\")"
   ]
  },
  {
   "cell_type": "markdown",
   "id": "77118428-34a7-4def-8df3-11d78ba464b5",
   "metadata": {},
   "source": [
    "### Gráfico de popularidad en base a \"playtime\""
   ]
  },
  {
   "cell_type": "code",
   "execution_count": 124,
   "id": "787115ab-7210-499f-afcc-4a503bbd65a0",
   "metadata": {},
   "outputs": [
    {
     "data": {
      "image/png": "[encoded data removed]",
      "text/plain": [
       "<Figure size 1000x600 with 1 Axes>"
      ]
     },
     "metadata": {},
     "output_type": "display_data"
    },
    {
     "data": {
      "text/html": [
       "<style type=\"text/css\">\n",
       "</style>\n",
       "<table id=\"T_ab9f0\">\n",
       "  <thead>\n",
       "    <tr>\n",
       "      <th id=\"T_ab9f0_level0_col0\" class=\"col_heading level0 col0\" >added</th>\n",
       "      <th id=\"T_ab9f0_level0_col1\" class=\"col_heading level0 col1\" >playtime</th>\n",
       "    </tr>\n",
       "  </thead>\n",
       "  <tbody>\n",
       "    <tr>\n",
       "      <td id=\"T_ab9f0_row0_col0\" class=\"data row0 col0\" >1.00</td>\n",
       "      <td id=\"T_ab9f0_row0_col1\" class=\"data row0 col1\" >0.23</td>\n",
       "    </tr>\n",
       "    <tr>\n",
       "      <td id=\"T_ab9f0_row1_col0\" class=\"data row1 col0\" >0.23</td>\n",
       "      <td id=\"T_ab9f0_row1_col1\" class=\"data row1 col1\" >1.00</td>\n",
       "    </tr>\n",
       "  </tbody>\n",
       "</table>\n"
      ],
      "text/plain": [
       "<pandas.io.formats.style.Styler at 0x18be9879ac0>"
      ]
     },
     "execution_count": 124,
     "metadata": {},
     "output_type": "execute_result"
    }
   ],
   "source": [
    "df_playtime2 = top10_playtime_por_rango[top10_playtime_por_rango['rango'] == '2020-2024']\n",
    "\n",
    "plt.figure(figsize=(10, 6))\n",
    "sns.barplot(data=df_playtime2, x='tiempo_jugado', y='genero', hue='genero', palette='viridis')\n",
    "plt.title('Top 10 géneros por \"playtime\" (2020–2024)')\n",
    "plt.xlabel('Total horas de juego')\n",
    "plt.ylabel('Género')\n",
    "plt.tight_layout()\n",
    "plt.show()\n",
    "\n",
    "correlacion = df_2019_2024[['added', 'playtime']].corr(method='pearson')\n",
    "correlacion.style.hide(axis=\"index\").format(\"{:.2f}\")"
   ]
  },
  {
   "cell_type": "markdown",
   "id": "b14f8319-044f-48b0-b051-2769efb345ee",
   "metadata": {},
   "source": [
    "## Top 10 global (Años 2015 a 2024)"
   ]
  },
  {
   "cell_type": "markdown",
   "id": "17467c58-1764-402f-89d0-d64584cff6f5",
   "metadata": {},
   "source": [
    "### Gráfica de popularidad por \"added\""
   ]
  },
  {
   "cell_type": "code",
   "execution_count": 128,
   "id": "af208bd3-8e61-444a-9b60-85f86c2f001f",
   "metadata": {},
   "outputs": [
    {
     "data": {
      "image/png": "[encoded data removed]",
      "text/plain": [
       "<Figure size 1000x600 with 1 Axes>"
      ]
     },
     "metadata": {},
     "output_type": "display_data"
    },
    {
     "data": {
      "text/html": [
       "<style type=\"text/css\">\n",
       "</style>\n",
       "<table id=\"T_6322c\">\n",
       "  <thead>\n",
       "    <tr>\n",
       "      <th id=\"T_6322c_level0_col0\" class=\"col_heading level0 col0\" >added</th>\n",
       "      <th id=\"T_6322c_level0_col1\" class=\"col_heading level0 col1\" >playtime</th>\n",
       "    </tr>\n",
       "  </thead>\n",
       "  <tbody>\n",
       "    <tr>\n",
       "      <td id=\"T_6322c_row0_col0\" class=\"data row0 col0\" >1.00</td>\n",
       "      <td id=\"T_6322c_row0_col1\" class=\"data row0 col1\" >0.32</td>\n",
       "    </tr>\n",
       "    <tr>\n",
       "      <td id=\"T_6322c_row1_col0\" class=\"data row1 col0\" >0.32</td>\n",
       "      <td id=\"T_6322c_row1_col1\" class=\"data row1 col1\" >1.00</td>\n",
       "    </tr>\n",
       "  </tbody>\n",
       "</table>\n"
      ],
      "text/plain": [
       "<pandas.io.formats.style.Styler at 0x18be9746900>"
      ]
     },
     "execution_count": 128,
     "metadata": {},
     "output_type": "execute_result"
    }
   ],
   "source": [
    "plt.figure(figsize=(10, 6))\n",
    "sns.barplot(data=top10_added_global, x='genero', hue='genero', y='popularidad', palette='Set1')\n",
    "plt.title('Top 10 géneros globales por \"added\" (2015–2024)')\n",
    "plt.xlabel('Género')\n",
    "plt.ylabel('Total \"added\"')\n",
    "plt.xticks(rotation=45)\n",
    "plt.tight_layout()\n",
    "plt.show()\n",
    "\n",
    "correlacion = df[['added', 'playtime']].corr(method='pearson')\n",
    "correlacion.style.hide(axis=\"index\").format(\"{:.2f}\")"
   ]
  },
  {
   "cell_type": "markdown",
   "id": "bb73d101-8001-4b0f-91eb-344655324428",
   "metadata": {},
   "source": [
    "### Gráfica de popularidad por \"playtime\""
   ]
  },
  {
   "cell_type": "code",
   "execution_count": 131,
   "id": "3f62a9bd-0d73-4d75-9cf9-d69985e58c10",
   "metadata": {},
   "outputs": [
    {
     "data": {
      "image/png": "[encoded data removed]",
      "text/plain": [
       "<Figure size 1000x600 with 1 Axes>"
      ]
     },
     "metadata": {},
     "output_type": "display_data"
    },
    {
     "data": {
      "text/html": [
       "<style type=\"text/css\">\n",
       "</style>\n",
       "<table id=\"T_6f8c9\">\n",
       "  <thead>\n",
       "    <tr>\n",
       "      <th id=\"T_6f8c9_level0_col0\" class=\"col_heading level0 col0\" >added</th>\n",
       "      <th id=\"T_6f8c9_level0_col1\" class=\"col_heading level0 col1\" >playtime</th>\n",
       "    </tr>\n",
       "  </thead>\n",
       "  <tbody>\n",
       "    <tr>\n",
       "      <td id=\"T_6f8c9_row0_col0\" class=\"data row0 col0\" >1.00</td>\n",
       "      <td id=\"T_6f8c9_row0_col1\" class=\"data row0 col1\" >0.32</td>\n",
       "    </tr>\n",
       "    <tr>\n",
       "      <td id=\"T_6f8c9_row1_col0\" class=\"data row1 col0\" >0.32</td>\n",
       "      <td id=\"T_6f8c9_row1_col1\" class=\"data row1 col1\" >1.00</td>\n",
       "    </tr>\n",
       "  </tbody>\n",
       "</table>\n"
      ],
      "text/plain": [
       "<pandas.io.formats.style.Styler at 0x18be974ede0>"
      ]
     },
     "execution_count": 131,
     "metadata": {},
     "output_type": "execute_result"
    }
   ],
   "source": [
    "plt.figure(figsize=(10, 6))\n",
    "sns.barplot(data=top10_playtime_global, x='genero', y='tiempo_jugado', hue='genero', palette='magma')\n",
    "plt.title('Top 10 géneros globales por \"playtime\" (2015–2024)')\n",
    "plt.xlabel('Género')\n",
    "plt.ylabel('Total \"playtime\"')\n",
    "plt.xticks(rotation=45)\n",
    "plt.tight_layout()\n",
    "plt.show()\n",
    "\n",
    "correlacion = df[['added', 'playtime']].corr(method='pearson')\n",
    "correlacion.style.hide(axis=\"index\").format(\"{:.2f}\")"
   ]
  },
  {
   "cell_type": "markdown",
   "id": "e1c22a7c-0d1e-4185-af9d-94a0a6f07602",
   "metadata": {},
   "source": [
    "## Conclusión Final"
   ]
  },
  {
   "cell_type": "markdown",
   "id": "a34c387a-2dc3-4063-957b-474e5217bf91",
   "metadata": {},
   "source": [
    "Como hemos podido analizar en nuestros datos, la popularidad de los generos parece haberse mantenido de forma similar en los generos mas populares, siendo estos Acción, Aventura e Indie, que no han sufrido grandes cambios, habiendo valorado tanto la cantidad de veces que se han añadido sus juegos a las bibliotecas de los jugadores como la suma de las horas de juego totales. Si que hemos notado algunos cambios con otros generos.\n",
    "\n",
    "Lo que hemos podido observar:\n",
    "\n",
    "- Los géneros Acción, Aventura, Indie y RPG se mantienen en una posición dominante, tanto en veces añadidas como en horas jugadas. Como observación adicional, el género RPG reduce considerablemente su distancia con el género Indie, llegando casi a empatarlo en cuanto a horas jugadas (playtime)\n",
    "  \n",
    "- Empezando desde atrás, los 3 géneros menos populares se mantienen con una sorprendente excepción. El género Puzzle se mantiene en el top 10 y el Casual en el top 8 en ambos casos, pero, en la gráfica de horas jugadas (playtime), el género de juegos de Plataformas no solo pierde su lugar en el top 9, sino que desaparece de la gráfica y es sustituido por el genero Multijugador Masivo, que a su vez, hace aparición por primera vez en nuestra gráfica.\n",
    "\n",
    "- Los géneros Shooter, Estrategia y Simulación, son los que mas variación sufren entre ellos, y por ello son los que parecen mas interesantes:\n",
    "\n",
    "    - El género Shooter estaba en el top 5 en cuanto a juegos añadidos, en tiempo jugado, baja hasta el top 7.\n",
    "    - El género Estrategia estaba en el top 6 en cuanto a juegos añadidos, en tiempo jugado, sube hasta el top 5.\n",
    "    - El género Simulación estaba en el top 7 en cuanto a juegos añadidos, en tiempo jugado, sube hasta el top 6."
   ]
  },
  {
   "cell_type": "markdown",
   "id": "f8a762c9-7440-4c48-941d-0727d2e17e64",
   "metadata": {},
   "source": [
    "En resumen, observamos que no siempre es mas popular el juego que mas gente tiene añadida en su biblioteca o comprado, sino que también tiene bastante peso la cantidad de horas que acumulan sus usuarios. La clave esta en encontrar el balance entre ambas estadísticas, ya que ambas son muy importantes.\n",
    "\n",
    "- Un juego que muchos usuarios adquieren, pero juegan poco tiempo, solo tendrá popularidad a corto plazo.\n",
    "- Un juego cuyos usuarios juegan mucho tiempo, pero tiene pocos usuarios, solo tendrá popularidad a largo plazo, cuando más usuarios lo adquieran."
   ]
  }
 ],
 "metadata": {
  "kernelspec": {
   "display_name": "Python [conda env:base] *",
   "language": "python",
   "name": "conda-base-py"
  },
  "language_info": {
   "codemirror_mode": {
    "name": "ipython",
    "version": 3
   },
   "file_extension": ".py",
   "mimetype": "text/x-python",
   "name": "python",
   "nbconvert_exporter": "python",
   "pygments_lexer": "ipython3",
   "version": "3.12.7"
  }
 },
 "nbformat": 4,
 "nbformat_minor": 5
}
